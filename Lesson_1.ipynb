{
 "cells": [
  {
   "cell_type": "markdown",
   "id": "d8fd523a",
   "metadata": {},
   "source": [
    "### Урок 1. Случайные события. Условная вероятность. Формула Байеса. Независимые испытания"
   ]
  },
  {
   "cell_type": "code",
   "execution_count": 3,
   "id": "bcf2ed9f",
   "metadata": {},
   "outputs": [],
   "source": [
    "import numpy as np"
   ]
  },
  {
   "cell_type": "markdown",
   "id": "2d2883ee",
   "metadata": {},
   "source": [
    "#### Задача 1\n",
    "\n",
    "Группа студентов изучает 10 различных дисциплин. Сколькими способами можно составить расписание на понедельник, если в этот день должно быть 4 разных занятия?"
   ]
  },
  {
   "cell_type": "markdown",
   "id": "9e293544",
   "metadata": {},
   "source": [
    "Размещение - т.к. имеет значение и состав и порядок занятий."
   ]
  },
  {
   "cell_type": "markdown",
   "id": "76f0dd58",
   "metadata": {},
   "source": [
    "$$A_n^k = \\frac{n!}{(n - k)!}$$"
   ]
  },
  {
   "cell_type": "markdown",
   "id": "978224ba",
   "metadata": {},
   "source": [
    "$$A_{10}^4 = \\frac{10!}{(10 - 4)!}$$\n"
   ]
  },
  {
   "cell_type": "code",
   "execution_count": 4,
   "id": "ac61fe4f",
   "metadata": {},
   "outputs": [],
   "source": [
    "def arrangements(n, k):\n",
    "    return np.math.factorial(n) // np.math.factorial(n - k)"
   ]
  },
  {
   "cell_type": "code",
   "execution_count": 5,
   "id": "931f6271",
   "metadata": {},
   "outputs": [
    {
     "data": {
      "text/plain": [
       "5040"
      ]
     },
     "execution_count": 5,
     "metadata": {},
     "output_type": "execute_result"
    }
   ],
   "source": [
    "arrangements(10, 4)"
   ]
  },
  {
   "cell_type": "markdown",
   "id": "d96b43e2",
   "metadata": {},
   "source": [
    "#### Задача 2\n",
    "\n",
    "Из колоды в 52 карты вынимают случайным образом 4 карты. Найти число исходов, соответствующих тому, что был вытянут хотя бы один туз."
   ]
  },
  {
   "cell_type": "markdown",
   "id": "0ca22a9b",
   "metadata": {},
   "source": [
    "Сумма сочетаний. Порядок не важен, важен только состав. \"Хотя бы один туз\" будем рассматривать следующим образом: 1 или 2 или 3 или 4 и остальные карты будем добирать из оставшихся."
   ]
  },
  {
   "cell_type": "markdown",
   "id": "da93ccdd",
   "metadata": {},
   "source": [
    "$$C_n^k = \\frac{n!}{k!(n - k)!}$$"
   ]
  },
  {
   "cell_type": "markdown",
   "id": "65a16616",
   "metadata": {},
   "source": [
    "$$m = C_4^1*C_{48}^3 + C_4^2*C_{48}^2 + C_4^3*C_{48}^1 + C_4^4*C_{48}^0$$"
   ]
  },
  {
   "cell_type": "code",
   "execution_count": 6,
   "id": "aa284ed4",
   "metadata": {},
   "outputs": [],
   "source": [
    "def combinations(n, k):\n",
    "    return np.math.factorial(n) // (np.math.factorial(k) * np.math.factorial(n - k))"
   ]
  },
  {
   "cell_type": "code",
   "execution_count": 7,
   "id": "e354c4f4",
   "metadata": {},
   "outputs": [
    {
     "data": {
      "text/plain": [
       "76144"
      ]
     },
     "execution_count": 7,
     "metadata": {},
     "output_type": "execute_result"
    }
   ],
   "source": [
    "m = combinations(4, 1) * combinations(48, 3) + combinations(4, 2) * combinations(48, 2) + combinations(4, 3) * combinations(48, 1)\n",
    "m"
   ]
  },
  {
   "cell_type": "markdown",
   "id": "a17dc12f",
   "metadata": {},
   "source": [
    "#### Задача 3\n",
    "\n",
    "Семь человек рассаживаются наудачу на скамейке. Какова вероятность того, что два определённых человека будут сидеть рядом?"
   ]
  },
  {
   "cell_type": "markdown",
   "id": "a0c26521",
   "metadata": {},
   "source": [
    "$$P(A) = \\frac{m}{n}$$"
   ]
  },
  {
   "cell_type": "markdown",
   "id": "044a579d",
   "metadata": {},
   "source": [
    "Общее количество исходов расадки 7 человек: $$P_7 = {7!}$$"
   ]
  },
  {
   "cell_type": "markdown",
   "id": "e027f491",
   "metadata": {},
   "source": [
    "При условии что два конкретных человека сели с края лавочки имеем:\n",
    "**00000"
   ]
  },
  {
   "cell_type": "code",
   "execution_count": null,
   "id": "089d39a1",
   "metadata": {},
   "outputs": [],
   "source": []
  },
  {
   "cell_type": "markdown",
   "id": "d2e0c258",
   "metadata": {},
   "source": [
    "Для двух конкретных человек рассадка будет $$P_2 = {2!}$$ способами"
   ]
  },
  {
   "cell_type": "markdown",
   "id": "346a5237",
   "metadata": {},
   "source": [
    "Для остальных пятерых: $$P_5 = {5!}$$"
   ]
  },
  {
   "cell_type": "markdown",
   "id": "a92eda89",
   "metadata": {},
   "source": [
    "Сдвигаясь по лавочке конкретные два человека будут рассаживаться следующим образом:\n",
    "1. **00000\n",
    "2. 0**0000\n",
    "3. 00**000\n",
    "4. 000**00\n",
    "5. 0000**0\n",
    "6. 00000**\n",
    "что дает нам 6 возможных комбинаций."
   ]
  },
  {
   "cell_type": "markdown",
   "id": "71332131",
   "metadata": {},
   "source": [
    "$$P(A) = \\frac{2!*5!}{7!}*6 = \\frac{6*2}{6*7} = \\frac{2}{7} = 0.285$$"
   ]
  },
  {
   "cell_type": "markdown",
   "id": "9e6ce860",
   "metadata": {},
   "source": [
    "#### Задача 4\n",
    "\n",
    "Из 60 вопросов, входящих в экзаменационные билеты, студент знает 50. Какова вероятность того, что среди трёх наугад выбранных вопросов студент знает: а) все? б) два?"
   ]
  },
  {
   "cell_type": "markdown",
   "id": "7d7701c3",
   "metadata": {},
   "source": [
    "$$P(A) = \\frac{m}{n}$$"
   ]
  },
  {
   "cell_type": "markdown",
   "id": "60d991ff",
   "metadata": {},
   "source": [
    "Поскольку порядок не важен будем использовать сочетания.\n",
    "Сначала найдем число всех равновозможных исходов: "
   ]
  },
  {
   "cell_type": "markdown",
   "id": "dc02dc49",
   "metadata": {},
   "source": [
    "$$n = C_{60}^3$$"
   ]
  },
  {
   "cell_type": "code",
   "execution_count": 10,
   "id": "dd219fa5",
   "metadata": {},
   "outputs": [
    {
     "data": {
      "text/plain": [
       "34220"
      ]
     },
     "execution_count": 10,
     "metadata": {},
     "output_type": "execute_result"
    }
   ],
   "source": [
    "n = combinations(60, 3)\n",
    "n"
   ]
  },
  {
   "cell_type": "markdown",
   "id": "64aa7b62",
   "metadata": {},
   "source": [
    "Затем найдем число исходов благопрятствующих выбору билетов, которые студент знает:"
   ]
  },
  {
   "cell_type": "markdown",
   "id": "9e913b72",
   "metadata": {},
   "source": [
    "$$m = C_{50}^3$$"
   ]
  },
  {
   "cell_type": "code",
   "execution_count": 11,
   "id": "347c36b2",
   "metadata": {},
   "outputs": [
    {
     "data": {
      "text/plain": [
       "19600"
      ]
     },
     "execution_count": 11,
     "metadata": {},
     "output_type": "execute_result"
    }
   ],
   "source": [
    "m = combinations(50, 3)\n",
    "m"
   ]
  },
  {
   "cell_type": "markdown",
   "id": "bdfc74fb",
   "metadata": {},
   "source": [
    "Вероятность того, что среди трёх наугад выбранных вопросов студент знает все составляет:"
   ]
  },
  {
   "cell_type": "code",
   "execution_count": 12,
   "id": "6f461081",
   "metadata": {},
   "outputs": [
    {
     "data": {
      "text/plain": [
       "0.5727644652250146"
      ]
     },
     "execution_count": 12,
     "metadata": {},
     "output_type": "execute_result"
    }
   ],
   "source": [
    "P = m / n\n",
    "P"
   ]
  },
  {
   "cell_type": "code",
   "execution_count": null,
   "id": "c1380531",
   "metadata": {},
   "outputs": [],
   "source": [
    "Найдем число исходов благопрятсвующих иыбору 2-х билетов, которые студент знает:"
   ]
  },
  {
   "cell_type": "code",
   "execution_count": 13,
   "id": "c1593d63",
   "metadata": {},
   "outputs": [
    {
     "data": {
      "text/plain": [
       "1225"
      ]
     },
     "execution_count": 13,
     "metadata": {},
     "output_type": "execute_result"
    }
   ],
   "source": [
    "m_1 = combinations(50, 2)\n",
    "m_1"
   ]
  },
  {
   "cell_type": "markdown",
   "id": "f3b49b54",
   "metadata": {},
   "source": [
    "и одного которого не знает"
   ]
  },
  {
   "cell_type": "code",
   "execution_count": 14,
   "id": "f0aba795",
   "metadata": {},
   "outputs": [
    {
     "data": {
      "text/plain": [
       "10"
      ]
     },
     "execution_count": 14,
     "metadata": {},
     "output_type": "execute_result"
    }
   ],
   "source": [
    "m_2 = combinations(10, 1)\n",
    "m_2"
   ]
  },
  {
   "cell_type": "code",
   "execution_count": null,
   "id": "b6e5af5d",
   "metadata": {},
   "outputs": [],
   "source": [
    "Общее количество исходов выбора 2-х билетов, которые студент знает и одного, которого не знает. "
   ]
  },
  {
   "cell_type": "code",
   "execution_count": 15,
   "id": "18c91d60",
   "metadata": {},
   "outputs": [
    {
     "data": {
      "text/plain": [
       "12250"
      ]
     },
     "execution_count": 15,
     "metadata": {},
     "output_type": "execute_result"
    }
   ],
   "source": [
    "m_s = m_1*m_2\n",
    "m_s"
   ]
  },
  {
   "cell_type": "markdown",
   "id": "2716c19e",
   "metadata": {},
   "source": [
    "Вероятность того, что среди трёх наугад выбранных вопросов студент знает 2:"
   ]
  },
  {
   "cell_type": "code",
   "execution_count": 16,
   "id": "52d4fd1a",
   "metadata": {},
   "outputs": [
    {
     "data": {
      "text/plain": [
       "0.35797779076563413"
      ]
     },
     "execution_count": 16,
     "metadata": {},
     "output_type": "execute_result"
    }
   ],
   "source": [
    "P = m_s / n\n",
    "P"
   ]
  },
  {
   "cell_type": "markdown",
   "id": "508cf405",
   "metadata": {},
   "source": [
    "#### Задача 5\n",
    "\n",
    "Бросается игральная кость. Пусть событие A - появление чётного числа, событие B - появление числа больше трёх. Являются ли эти события независимыми?"
   ]
  },
  {
   "cell_type": "markdown",
   "id": "ac1d19e5",
   "metadata": {},
   "source": [
    "Эти события зависимые."
   ]
  },
  {
   "cell_type": "markdown",
   "id": "674897b8",
   "metadata": {},
   "source": [
    "$$P(AB) = P(A) \\cdot P(B)$$"
   ]
  },
  {
   "cell_type": "markdown",
   "id": "4f17e426",
   "metadata": {},
   "source": [
    "Событие АВ - выпало четное число и оно больше 3 (4 или 6):"
   ]
  },
  {
   "cell_type": "markdown",
   "id": "2ffc6de7",
   "metadata": {},
   "source": [
    "$$P(AB) = \\frac{1}{6}+\\frac{1}{6} = \\frac{2}{6} = \\frac{1}{3}$$"
   ]
  },
  {
   "cell_type": "markdown",
   "id": "5b61989e",
   "metadata": {},
   "source": [
    "$$P(A) \\cdot P(B) = \\frac{1}{2}*\\frac{1}{2} = \\frac{1}{4}$$"
   ]
  },
  {
   "cell_type": "markdown",
   "id": "b3870c24",
   "metadata": {},
   "source": [
    "$$P(AB) ≠ P(A) \\cdot P(B)$$"
   ]
  },
  {
   "cell_type": "markdown",
   "id": "ab88ec99",
   "metadata": {},
   "source": [
    "И эти события совместны, т.к. может выпасть число больше 3 и оно может быть четным."
   ]
  },
  {
   "cell_type": "markdown",
   "id": "fd2674a2",
   "metadata": {},
   "source": [
    "#### Задача 6 (Дополнительно)\n",
    "\n",
    "Допустим, имеется некоторая очень редкая болезнь (поражает 0.1 % населения). Вы приходите к врачу, вам делают тест на эту болезнь, и тест оказывается положительным. Врач говорит вам, что этот тест верно выявляет 99 % больных этой болезнью и всего лишь в 1 % случаев даёт ложный положительный ответ.\n",
    "\n",
    "Вопрос: какова вероятность, что вы действительно больны ей?"
   ]
  },
  {
   "cell_type": "markdown",
   "id": "c86ffcd2",
   "metadata": {},
   "source": [
    "Исходя из условий задания: \n",
    "Болеют - 0,1%,\\\n",
    "99% результатов теста выявляют болезнь, когда она есть и соответственно 1% не выявляют, \\\n",
    "1% результатов теста выявляют болезнь, когда ее нет и 99% верно определяют отрицательный результат "
   ]
  },
  {
   "cell_type": "markdown",
   "id": "7aa720bd",
   "metadata": {},
   "source": [
    "Таким образом:\\\n",
    "&emsp; &emsp; &emsp; &emsp; &emsp; &emsp; &emsp; &emsp; &emsp; &emsp; &emsp;&emsp;&emsp;&emsp;&emsp;&emsp;&emsp;&emsp;&emsp;Болеют 0,1% &emsp;&emsp;&emsp;&emsp;&emsp;&emsp; Не болеют 99,9% \\\n",
    "Положительный результат теста &emsp;&emsp;&emsp;&emsp;&emsp;&emsp;&emsp;&emsp;&emsp; 99% &emsp;&emsp;&emsp;&emsp;&emsp;&emsp;&emsp;&emsp;&emsp;&emsp;1% \\\n",
    "Отрицательный результат теста &emsp;&emsp;&emsp;&emsp;&emsp;&emsp;&emsp;&emsp;&emsp; 1% &emsp;&emsp;&emsp;&emsp;&emsp;&emsp;&emsp;&emsp;&emsp;&emsp;&emsp;99%"
   ]
  },
  {
   "cell_type": "markdown",
   "id": "48575744",
   "metadata": {},
   "source": [
    "Положительный результат теста: \\\n",
    "Может быть как Истинно положительным: 0,1% * 99% = 0,0099 \\\n",
    "Так и Ложноположительным: 99,9% * 1% = 0,0999 \\\n",
    "\\\n",
    "Отрицательный результат теста: \\\n",
    "Может быть Истинно отрицательным: 99,9% * 99% = 0,9890 \\\n",
    "Так и Ложноотрицательным: 0,1% * 1% = 0,001 \\\n",
    "\\\n",
    "Таким образом получаем: "
   ]
  },
  {
   "cell_type": "markdown",
   "id": "60cd5a70",
   "metadata": {},
   "source": [
    "\n",
    "&emsp; &emsp; &emsp; &emsp; &emsp; &emsp; &emsp; &emsp; &emsp; &emsp;&emsp; &emsp; &emsp; &emsp;&emsp;&emsp;&emsp;&emsp;&emsp;&emsp;&emsp;&emsp;Болеют 0,1% &emsp;&emsp;&emsp;&emsp;&emsp; &emsp; &emsp; &emsp; &emsp; &emsp;&emsp; Не болеют 99,9% \\\n",
    "Положительный результат теста &emsp;&emsp;&emsp;&emsp;&emsp;&emsp;Истинно положительный 0,0099 &emsp;&emsp;&emsp;&emsp;&emsp;&emsp;&emsp;Ложноположительный 0,0999 \\\n",
    "Отрицательный результат теста &emsp;&emsp;&emsp;&emsp;&emsp;&emsp;&emsp;Ложноотрицательный 0,001 &emsp;&emsp;&emsp;&emsp;&emsp;&emsp;&emsp;&emsp; Истинно отрицательный 0,9890"
   ]
  },
  {
   "cell_type": "markdown",
   "id": "93e6bc85",
   "metadata": {},
   "source": [
    "Вероятность положительного результата  = Вероятность истинно положительного результата + Вероятность ложноположительного результата. \\\n",
    "0,0099 + 0,0999 = 0,1098"
   ]
  },
  {
   "cell_type": "markdown",
   "id": "076b51bf",
   "metadata": {},
   "source": [
    "Вероятность заболевания при положительном результате теста  = Вероятность истинно положительного результата / \\\n",
    "Вероятность положительного результата \\\n",
    "0,0099 / 0,1098 = 0,090 или 9%"
   ]
  },
  {
   "cell_type": "markdown",
   "id": "6a8be441",
   "metadata": {},
   "source": [
    "#### Формула Байеса"
   ]
  },
  {
   "cell_type": "markdown",
   "id": "3d5c987f",
   "metadata": {},
   "source": [
    "$$P(A\\:|\\:B) = \\frac{P(B\\:|\\:A) \\cdot P(A)}{P(B\\:|\\:A)\\cdot P(A) + P(B\\:|\\:notA)\\cdot P(notA)}$$"
   ]
  },
  {
   "cell_type": "markdown",
   "id": "49368c11",
   "metadata": {},
   "source": [
    "$P(A\\:|\\:B)$ - вероятность заболевания А при положительном результате В. (выше у нас получилось 9%)"
   ]
  },
  {
   "cell_type": "markdown",
   "id": "dcd448df",
   "metadata": {},
   "source": [
    "$P(B\\:|\\:A)$ - вероятность положительного результата В в случае когда человек действительно болен А - 99%"
   ]
  },
  {
   "cell_type": "markdown",
   "id": "adf6d698",
   "metadata": {},
   "source": [
    "$P(A)$ - вероятность заболеть - 0,1%"
   ]
  },
  {
   "cell_type": "markdown",
   "id": "c0f7e369",
   "metadata": {},
   "source": [
    "$P(notA)$ - вероятность не заболеть - 99%"
   ]
  },
  {
   "cell_type": "markdown",
   "id": "f8203c90",
   "metadata": {},
   "source": [
    "$P(B\\:|notA)$ - вероятность положительного исхода в случае если заболевания нет (ложноположительный) - 0,999%"
   ]
  },
  {
   "cell_type": "markdown",
   "id": "bfea40e9",
   "metadata": {},
   "source": [
    "$P(A\\:|\\:B) = \\frac{0,99 \\cdot 0,01}{0,99 \\cdot 0.01 + 0.0999\\cdot 0.99} = \\frac{0,099}{0,099 + 0.908} = \\frac{0,099}{1} = 0.099\\: или\\: 9,9$%"
   ]
  }
 ],
 "metadata": {
  "kernelspec": {
   "display_name": "Python 3 (ipykernel)",
   "language": "python",
   "name": "python3"
  },
  "language_info": {
   "codemirror_mode": {
    "name": "ipython",
    "version": 3
   },
   "file_extension": ".py",
   "mimetype": "text/x-python",
   "name": "python",
   "nbconvert_exporter": "python",
   "pygments_lexer": "ipython3",
   "version": "3.9.1"
  }
 },
 "nbformat": 4,
 "nbformat_minor": 5
}
