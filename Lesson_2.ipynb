{
 "cells": [
  {
   "cell_type": "markdown",
   "id": "48051f7b",
   "metadata": {},
   "source": [
    "### Урок 2. \n",
    "Дискретные случайные величины. Закон распределения вероятностей. Биномиальный закон распределения. Распределение Пуассона"
   ]
  },
  {
   "cell_type": "code",
   "execution_count": 1,
   "id": "60bfd36e",
   "metadata": {},
   "outputs": [],
   "source": [
    "import numpy as np"
   ]
  },
  {
   "cell_type": "markdown",
   "id": "163a1840",
   "metadata": {},
   "source": [
    "#### Задача 1\n",
    "\n",
    "Контрольная работа состоит из пяти вопросов. На каждый вопрос приведено четыре варианта ответа, один из которых правильный. Составьте закон распределения числа правильных ответов при простом угадывании. Найдите M(X), D(X)."
   ]
  },
  {
   "cell_type": "markdown",
   "id": "7d24e8c7",
   "metadata": {},
   "source": [
    "Х - дискретная случайная величина, равная количеству правильных ответов. Х имеет биноминальное распредление с параметрами n=5, p=1/4.\n",
    "Вероятности вычисляются по формуле Бернули:"
   ]
  },
  {
   "cell_type": "markdown",
   "id": "ff90a9b0",
   "metadata": {},
   "source": [
    "$$P(X = k) = C_n^k p^k (1 - p)^{n - k}$$"
   ]
  },
  {
   "cell_type": "markdown",
   "id": "b064aca5",
   "metadata": {},
   "source": [
    "$$P(X = k) = C_5^k (\\frac{1}{4})^k (1 - \\frac{1}{4})^{5 - k} = \\frac{5!}{k!(5-k)!}(\\frac{1}{4})^k (\\frac{3}{4})^{5 - k}$$"
   ]
  },
  {
   "cell_type": "markdown",
   "id": "3651b881",
   "metadata": {},
   "source": [
    "Получаем:"
   ]
  },
  {
   "cell_type": "markdown",
   "id": "76a92a08",
   "metadata": {},
   "source": [
    "$P(X = 0) = C_5^0 (\\frac{1}{4})^0 (\\frac{3}{4})^{5} = 0.2373 $"
   ]
  },
  {
   "cell_type": "markdown",
   "id": "31c1cacd",
   "metadata": {},
   "source": [
    "$P(X = 1) = C_5^1 (\\frac{1}{4})^1 (\\frac{3}{4})^{4} = 0.3955$"
   ]
  },
  {
   "cell_type": "markdown",
   "id": "d9e854d5",
   "metadata": {},
   "source": [
    "$P(X = 2) = C_5^2 (\\frac{1}{4})^2 (\\frac{3}{4})^{3} = 0.2636$"
   ]
  },
  {
   "cell_type": "markdown",
   "id": "aa325947",
   "metadata": {},
   "source": [
    "$P(X = 3) = C_5^3 (\\frac{1}{4})^3 (\\frac{3}{4})^{2} = 0.0877$"
   ]
  },
  {
   "cell_type": "markdown",
   "id": "505842be",
   "metadata": {},
   "source": [
    "$P(X = 4) = C_5^4 (\\frac{1}{4})^4 (\\frac{3}{4})^{1} = 0.014$"
   ]
  },
  {
   "cell_type": "markdown",
   "id": "82b40e85",
   "metadata": {},
   "source": [
    "$P(X = 5) = C_5^5 (\\frac{1}{4})^5 (\\frac{3}{4})^{0} = 0.0009$"
   ]
  },
  {
   "cell_type": "markdown",
   "id": "fda92092",
   "metadata": {},
   "source": [
    "Получили закон распределения: \\\n",
    "х &emsp;&emsp;&emsp; 0 &emsp;&emsp;&emsp;&emsp;&emsp; 1 &emsp;&emsp;&emsp;&emsp; 2 &emsp;&emsp;&emsp;&emsp;&emsp; 3 &emsp;&emsp;&emsp;&emsp; 4 &emsp;&emsp;&emsp;&emsp; 5 \\\n",
    "р &emsp; &emsp;0.2373 &emsp;&emsp; 0.3955 &emsp;&emsp; 0.2636 &emsp;&emsp; 0.0877 &emsp;&emsp; 0.014 &emsp;&emsp; 0.0009"
   ]
  },
  {
   "cell_type": "markdown",
   "id": "46ffa6b4",
   "metadata": {},
   "source": [
    "Найдем M(X) и D(X)"
   ]
  },
  {
   "cell_type": "markdown",
   "id": "3f55ff7d",
   "metadata": {},
   "source": [
    "$$M(X) = np$$"
   ]
  },
  {
   "cell_type": "markdown",
   "id": "672618c5",
   "metadata": {},
   "source": [
    "M(X) = 5 * 1/4 = 1.25"
   ]
  },
  {
   "cell_type": "markdown",
   "id": "fb077124",
   "metadata": {},
   "source": [
    "$$D(X) = np(1-p)$$"
   ]
  },
  {
   "cell_type": "markdown",
   "id": "2e8ae65e",
   "metadata": {},
   "source": [
    "D(X) = 1.25 * 3/4 = 15/16 = 0.937"
   ]
  },
  {
   "cell_type": "code",
   "execution_count": 44,
   "id": "d750cd3a",
   "metadata": {},
   "outputs": [],
   "source": [
    "def combinations(n, k):\n",
    "    return np.math.factorial(n) // (np.math.factorial(k) * np.math.factorial(n - k))"
   ]
  },
  {
   "cell_type": "code",
   "execution_count": 11,
   "id": "6716cc67",
   "metadata": {},
   "outputs": [],
   "source": [
    "n = 5"
   ]
  },
  {
   "cell_type": "code",
   "execution_count": 62,
   "id": "cd5260c3",
   "metadata": {},
   "outputs": [
    {
     "name": "stdout",
     "output_type": "stream",
     "text": [
      "0 0.2373\n",
      "1 0.3955\n",
      "2 0.2637\n",
      "3 0.0879\n",
      "4 0.0146\n",
      "5 0.001\n"
     ]
    }
   ],
   "source": [
    "for k in range(6):\n",
    "    p = round(combinations(n, k) * np.power(0.25, k) * np.power(0.75, n-k), 4)\n",
    "    print(k, p)"
   ]
  },
  {
   "cell_type": "code",
   "execution_count": 17,
   "id": "c00d51eb",
   "metadata": {},
   "outputs": [
    {
     "data": {
      "text/plain": [
       "1.25"
      ]
     },
     "execution_count": 17,
     "metadata": {},
     "output_type": "execute_result"
    }
   ],
   "source": [
    "M_X = n*0.25\n",
    "M_X"
   ]
  },
  {
   "cell_type": "code",
   "execution_count": 18,
   "id": "9f0516c1",
   "metadata": {},
   "outputs": [
    {
     "data": {
      "text/plain": [
       "0.9375"
      ]
     },
     "execution_count": 18,
     "metadata": {},
     "output_type": "execute_result"
    }
   ],
   "source": [
    "D_X = M_X * 0.75\n",
    "D_X"
   ]
  },
  {
   "cell_type": "markdown",
   "id": "38a1c35b",
   "metadata": {},
   "source": [
    "#### Задача 2\n",
    "\n",
    "Вероятность поймать рыбу при одном забрасывании удочки равна 0.01. Какова вероятность того, что число пойманных рыб при 200 забросах удочки будет не менее 5 и не более 10?"
   ]
  },
  {
   "cell_type": "markdown",
   "id": "ef429dc9",
   "metadata": {},
   "source": [
    "Случайная величина Х - количество пойманной рыбы. Т.к. р = 0,01 и очень мала, а число забросов достаточно велико (200), то вероятность поймать рыбу будем находить используя формулу Пуассона."
   ]
  },
  {
   "cell_type": "markdown",
   "id": "9dc6bddc",
   "metadata": {},
   "source": [
    "$$P(X = k) = \\dfrac{a^k e ^{-a}}{k!}.$$"
   ]
  },
  {
   "cell_type": "markdown",
   "id": "36ba2271",
   "metadata": {},
   "source": [
    "Вероятность поймать не менее 5 и не более 10 рыб будет складываться из вероятностей каждого события:"
   ]
  },
  {
   "cell_type": "markdown",
   "id": "ad074b1e",
   "metadata": {},
   "source": [
    "$$P(5 \\leq X \\leq 10) = P(X=5) + P(X=6) + P(X=7) + P(X=8) + P(X=9) + P(X=10)$$"
   ]
  },
  {
   "cell_type": "markdown",
   "id": "8f4ccd0c",
   "metadata": {},
   "source": [
    "$$λ = np = 200 \\cdot0.01 = 2$$"
   ]
  },
  {
   "cell_type": "markdown",
   "id": "837020f6",
   "metadata": {},
   "source": [
    "$$e^{-λ} ≈ 0.135$$"
   ]
  },
  {
   "cell_type": "markdown",
   "id": "0a56a8b6",
   "metadata": {},
   "source": [
    "$$P(5 \\leq X \\leq 10) = \\displaystyle\\sum_{i = 5}^{10} \\dfrac{λ^{i} \\cdot 0.135}{i!}$$"
   ]
  },
  {
   "cell_type": "markdown",
   "id": "b07ba1f4",
   "metadata": {},
   "source": [
    "$$P(5 \\leq X \\leq 10) = 0.135 \\cdot(\\dfrac{2^{5}}{5!} + \\dfrac{2^{6}}{6!} + \\dfrac{2^{7}}{7!} + \\dfrac{2^{8}}{8!} + \\dfrac{2^{9}}{9!} + \\dfrac{2^{10}}{10!}) = 0.053$$"
   ]
  },
  {
   "cell_type": "code",
   "execution_count": 88,
   "id": "4282a3f2",
   "metadata": {},
   "outputs": [],
   "source": [
    "def poisson_proba(k, lambda_):\n",
    "       \n",
    "    return (lambda_ ** k) * (np.exp(-lambda_)) / np.math.factorial(k)"
   ]
  },
  {
   "cell_type": "code",
   "execution_count": 75,
   "id": "71975ce1",
   "metadata": {},
   "outputs": [],
   "source": [
    "lambda_ = 2"
   ]
  },
  {
   "cell_type": "code",
   "execution_count": 112,
   "id": "ae9de6c3",
   "metadata": {},
   "outputs": [
    {
     "data": {
      "text/plain": [
       "0.052644709119342686"
      ]
     },
     "execution_count": 112,
     "metadata": {},
     "output_type": "execute_result"
    }
   ],
   "source": [
    "sum(poisson_proba(k=i, lambda_=lambda_) for i in range(5,11))"
   ]
  },
  {
   "cell_type": "markdown",
   "id": "245f75c5",
   "metadata": {},
   "source": [
    "#### Задача 3\n",
    "\n",
    "В условиях предыдущей задачи сколько забросов удочки нужно сделать чтобы быть уверенным с вероятностью 0.9, что хотя бы 10 раз будет поймана рыба?"
   ]
  },
  {
   "cell_type": "code",
   "execution_count": 268,
   "id": "057aceb8",
   "metadata": {},
   "outputs": [],
   "source": [
    "p = 0"
   ]
  },
  {
   "cell_type": "code",
   "execution_count": 269,
   "id": "c7a2c6e6",
   "metadata": {},
   "outputs": [],
   "source": [
    "def poisson_p(k, n):\n",
    "       \n",
    "    return (n * 0.01 ** k) * (np.exp(-0.01 * n )) / np.math.factorial(k)"
   ]
  },
  {
   "cell_type": "code",
   "execution_count": 270,
   "id": "67a36b6e",
   "metadata": {},
   "outputs": [],
   "source": [
    "g = 1"
   ]
  },
  {
   "cell_type": "code",
   "execution_count": 271,
   "id": "d8948090",
   "metadata": {},
   "outputs": [
    {
     "name": "stdout",
     "output_type": "stream",
     "text": [
      "914\n"
     ]
    }
   ],
   "source": [
    "while p <= 0.9:\n",
    "    p = 1 - sum(poisson_p(k=i, n=g) for i in range(11))\n",
    "    g +=1\n",
    "print(g)"
   ]
  },
  {
   "cell_type": "markdown",
   "id": "bd75d4d9",
   "metadata": {},
   "source": [
    "Потребуется 914 забросов."
   ]
  }
 ],
 "metadata": {
  "kernelspec": {
   "display_name": "Python 3 (ipykernel)",
   "language": "python",
   "name": "python3"
  },
  "language_info": {
   "codemirror_mode": {
    "name": "ipython",
    "version": 3
   },
   "file_extension": ".py",
   "mimetype": "text/x-python",
   "name": "python",
   "nbconvert_exporter": "python",
   "pygments_lexer": "ipython3",
   "version": "3.9.1"
  }
 },
 "nbformat": 4,
 "nbformat_minor": 5
}
