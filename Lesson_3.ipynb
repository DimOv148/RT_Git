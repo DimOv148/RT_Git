{
 "cells": [
  {
   "cell_type": "markdown",
   "id": "de65e1f5",
   "metadata": {},
   "source": [
    "### Урок 3.\n",
    "Описательная статистика. Качественные и количественные характеристики популяции. Графическое представление данных"
   ]
  },
  {
   "cell_type": "markdown",
   "id": "01ffc52c",
   "metadata": {},
   "source": [
    "#### Задача 1\n",
    "\n",
    "Даны значения зарплат из выборки выпускников:\n",
    "\n",
    "100, 80, 75, 77, 89, 33, 45, 25, 65, 17, 30, 24, 57, 55, 70, 75, 65, 84, 90, 150.\n",
    "\n",
    "Без использования статистических функций вроде mean, std, var, посчитать среднее арифметическое, среднее квадратичное отклонение, смещенную и несмещенную оценки дисперсий для данной выборки.\n",
    "\n",
    "Можно затем посчитать те же значения с использованием статистических функций, чтобы проверить себя."
   ]
  },
  {
   "cell_type": "code",
   "execution_count": 1,
   "id": "94068378",
   "metadata": {},
   "outputs": [],
   "source": [
    "import warnings\n",
    "\n",
    "import numpy as np\n",
    "import pandas as pd\n",
    "from matplotlib import pyplot as plt\n",
    "\n",
    "warnings.filterwarnings('ignore')"
   ]
  },
  {
   "cell_type": "code",
   "execution_count": 5,
   "id": "ab1f6cd2",
   "metadata": {},
   "outputs": [],
   "source": [
    "grad = pd.DataFrame({\n",
    "       'salary' : [100, 80, 75, 77, 89, 33, 45, 25, 65, 17, 30, 24, 57, 55, 70, 75, 65, 84, 90, 150]\n",
    "})"
   ]
  },
  {
   "cell_type": "code",
   "execution_count": 6,
   "id": "5fa704d4",
   "metadata": {},
   "outputs": [
    {
     "data": {
      "text/html": [
       "<div>\n",
       "<style scoped>\n",
       "    .dataframe tbody tr th:only-of-type {\n",
       "        vertical-align: middle;\n",
       "    }\n",
       "\n",
       "    .dataframe tbody tr th {\n",
       "        vertical-align: top;\n",
       "    }\n",
       "\n",
       "    .dataframe thead th {\n",
       "        text-align: right;\n",
       "    }\n",
       "</style>\n",
       "<table border=\"1\" class=\"dataframe\">\n",
       "  <thead>\n",
       "    <tr style=\"text-align: right;\">\n",
       "      <th></th>\n",
       "      <th>salary</th>\n",
       "    </tr>\n",
       "  </thead>\n",
       "  <tbody>\n",
       "    <tr>\n",
       "      <th>0</th>\n",
       "      <td>100</td>\n",
       "    </tr>\n",
       "    <tr>\n",
       "      <th>1</th>\n",
       "      <td>80</td>\n",
       "    </tr>\n",
       "    <tr>\n",
       "      <th>2</th>\n",
       "      <td>75</td>\n",
       "    </tr>\n",
       "    <tr>\n",
       "      <th>3</th>\n",
       "      <td>77</td>\n",
       "    </tr>\n",
       "    <tr>\n",
       "      <th>4</th>\n",
       "      <td>89</td>\n",
       "    </tr>\n",
       "    <tr>\n",
       "      <th>5</th>\n",
       "      <td>33</td>\n",
       "    </tr>\n",
       "    <tr>\n",
       "      <th>6</th>\n",
       "      <td>45</td>\n",
       "    </tr>\n",
       "    <tr>\n",
       "      <th>7</th>\n",
       "      <td>25</td>\n",
       "    </tr>\n",
       "    <tr>\n",
       "      <th>8</th>\n",
       "      <td>65</td>\n",
       "    </tr>\n",
       "    <tr>\n",
       "      <th>9</th>\n",
       "      <td>17</td>\n",
       "    </tr>\n",
       "    <tr>\n",
       "      <th>10</th>\n",
       "      <td>30</td>\n",
       "    </tr>\n",
       "    <tr>\n",
       "      <th>11</th>\n",
       "      <td>24</td>\n",
       "    </tr>\n",
       "    <tr>\n",
       "      <th>12</th>\n",
       "      <td>57</td>\n",
       "    </tr>\n",
       "    <tr>\n",
       "      <th>13</th>\n",
       "      <td>55</td>\n",
       "    </tr>\n",
       "    <tr>\n",
       "      <th>14</th>\n",
       "      <td>70</td>\n",
       "    </tr>\n",
       "    <tr>\n",
       "      <th>15</th>\n",
       "      <td>75</td>\n",
       "    </tr>\n",
       "    <tr>\n",
       "      <th>16</th>\n",
       "      <td>65</td>\n",
       "    </tr>\n",
       "    <tr>\n",
       "      <th>17</th>\n",
       "      <td>84</td>\n",
       "    </tr>\n",
       "    <tr>\n",
       "      <th>18</th>\n",
       "      <td>90</td>\n",
       "    </tr>\n",
       "    <tr>\n",
       "      <th>19</th>\n",
       "      <td>150</td>\n",
       "    </tr>\n",
       "  </tbody>\n",
       "</table>\n",
       "</div>"
      ],
      "text/plain": [
       "    salary\n",
       "0      100\n",
       "1       80\n",
       "2       75\n",
       "3       77\n",
       "4       89\n",
       "5       33\n",
       "6       45\n",
       "7       25\n",
       "8       65\n",
       "9       17\n",
       "10      30\n",
       "11      24\n",
       "12      57\n",
       "13      55\n",
       "14      70\n",
       "15      75\n",
       "16      65\n",
       "17      84\n",
       "18      90\n",
       "19     150"
      ]
     },
     "execution_count": 6,
     "metadata": {},
     "output_type": "execute_result"
    }
   ],
   "source": [
    "grad"
   ]
  },
  {
   "cell_type": "markdown",
   "id": "5f1116c9",
   "metadata": {},
   "source": [
    "Среднее арифметическое:"
   ]
  },
  {
   "cell_type": "code",
   "execution_count": 7,
   "id": "8489af90",
   "metadata": {},
   "outputs": [
    {
     "data": {
      "text/plain": [
       "65.3"
      ]
     },
     "execution_count": 7,
     "metadata": {},
     "output_type": "execute_result"
    }
   ],
   "source": [
    "mean_salary = grad['salary'].sum() / grad['salary'].count()\n",
    "mean_salary"
   ]
  },
  {
   "cell_type": "code",
   "execution_count": 8,
   "id": "91f56dca",
   "metadata": {},
   "outputs": [
    {
     "data": {
      "text/plain": [
       "65.3"
      ]
     },
     "execution_count": 8,
     "metadata": {},
     "output_type": "execute_result"
    }
   ],
   "source": [
    "grad['salary'].mean()"
   ]
  },
  {
   "cell_type": "markdown",
   "id": "5994a959",
   "metadata": {},
   "source": [
    "Среднее квадратичное отклонение:"
   ]
  },
  {
   "cell_type": "code",
   "execution_count": 9,
   "id": "56668ab7",
   "metadata": {},
   "outputs": [
    {
     "data": {
      "text/plain": [
       "0     1204.09\n",
       "1      216.09\n",
       "2       94.09\n",
       "3      136.89\n",
       "4      561.69\n",
       "5     1043.29\n",
       "6      412.09\n",
       "7     1624.09\n",
       "8        0.09\n",
       "9     2332.89\n",
       "10    1246.09\n",
       "11    1705.69\n",
       "12      68.89\n",
       "13     106.09\n",
       "14      22.09\n",
       "15      94.09\n",
       "16       0.09\n",
       "17     349.69\n",
       "18     610.09\n",
       "19    7174.09\n",
       "Name: salary, dtype: float64"
      ]
     },
     "execution_count": 9,
     "metadata": {},
     "output_type": "execute_result"
    }
   ],
   "source": [
    "(grad['salary'] - grad['salary'].mean()) ** 2"
   ]
  },
  {
   "cell_type": "code",
   "execution_count": 10,
   "id": "92fa24da",
   "metadata": {},
   "outputs": [
    {
     "data": {
      "text/plain": [
       "30.823854398825596"
      ]
     },
     "execution_count": 10,
     "metadata": {},
     "output_type": "execute_result"
    }
   ],
   "source": [
    "salary_std = np.sqrt(((grad['salary'] - grad['salary'].mean()) ** 2).sum() / grad['salary'].count())\n",
    "salary_std"
   ]
  },
  {
   "cell_type": "code",
   "execution_count": 18,
   "id": "b97fa772",
   "metadata": {},
   "outputs": [
    {
     "data": {
      "text/plain": [
       "31.624607341019814"
      ]
     },
     "execution_count": 18,
     "metadata": {},
     "output_type": "execute_result"
    }
   ],
   "source": [
    "grad['salary'].std()"
   ]
  },
  {
   "cell_type": "markdown",
   "id": "22a1ef35",
   "metadata": {},
   "source": [
    "Cмещенная оценка дисперсии:"
   ]
  },
  {
   "cell_type": "code",
   "execution_count": 16,
   "id": "b8b993b6",
   "metadata": {},
   "outputs": [
    {
     "data": {
      "text/plain": [
       "950.11"
      ]
     },
     "execution_count": 16,
     "metadata": {},
     "output_type": "execute_result"
    }
   ],
   "source": [
    "salary_variance = ((grad['salary'] - grad['salary'].mean()) ** 2).sum() / grad['salary'].count()\n",
    "salary_variance"
   ]
  },
  {
   "cell_type": "code",
   "execution_count": 19,
   "id": "42ff465f",
   "metadata": {},
   "outputs": [
    {
     "data": {
      "text/plain": [
       "950.11"
      ]
     },
     "execution_count": 19,
     "metadata": {},
     "output_type": "execute_result"
    }
   ],
   "source": [
    "grad['salary'].var(ddof=0)"
   ]
  },
  {
   "cell_type": "markdown",
   "id": "59ddabb4",
   "metadata": {},
   "source": [
    "Несмещенная оценка дисперсии:"
   ]
  },
  {
   "cell_type": "code",
   "execution_count": 17,
   "id": "36362476",
   "metadata": {},
   "outputs": [
    {
     "data": {
      "text/plain": [
       "1000.1157894736842"
      ]
     },
     "execution_count": 17,
     "metadata": {},
     "output_type": "execute_result"
    }
   ],
   "source": [
    "salary_variance2 = ((grad['salary'] - grad['salary'].mean())**2).sum() / (grad['salary'].count() - 1)\n",
    "salary_variance2"
   ]
  },
  {
   "cell_type": "code",
   "execution_count": 20,
   "id": "6ac827ea",
   "metadata": {},
   "outputs": [
    {
     "data": {
      "text/plain": [
       "1000.1157894736842"
      ]
     },
     "execution_count": 20,
     "metadata": {},
     "output_type": "execute_result"
    }
   ],
   "source": [
    "grad['salary'].var(ddof=1)"
   ]
  },
  {
   "cell_type": "markdown",
   "id": "b98e7900",
   "metadata": {},
   "source": [
    "#### Задача 2\n",
    "\n",
    "Для выборки из задачи 1 найти первый и третий квартили, интерквартильное расстояние. Найти выбросы в выборке, используя для этого \"усы\" из boxplot. В этой задаче можно использовать статистические функции."
   ]
  },
  {
   "cell_type": "markdown",
   "id": "27e7ec71",
   "metadata": {},
   "source": [
    "Найти первый квартиль -  квантиль порядка  0.25 "
   ]
  },
  {
   "cell_type": "code",
   "execution_count": 21,
   "id": "67fa9b6e",
   "metadata": {},
   "outputs": [
    {
     "data": {
      "text/plain": [
       "42.0"
      ]
     },
     "execution_count": 21,
     "metadata": {},
     "output_type": "execute_result"
    }
   ],
   "source": [
    "grad['salary'].quantile(0.25)"
   ]
  },
  {
   "cell_type": "markdown",
   "id": "1202e024",
   "metadata": {},
   "source": [
    "Найти третий квартиль -  квантиль порядка  0.75 "
   ]
  },
  {
   "cell_type": "code",
   "execution_count": 24,
   "id": "ac71a566",
   "metadata": {},
   "outputs": [
    {
     "data": {
      "text/plain": [
       "81.0"
      ]
     },
     "execution_count": 24,
     "metadata": {},
     "output_type": "execute_result"
    }
   ],
   "source": [
    "grad['salary'].quantile(0.75)"
   ]
  },
  {
   "cell_type": "markdown",
   "id": "c48c5ead",
   "metadata": {},
   "source": [
    "Интерквартильное расстояние"
   ]
  },
  {
   "cell_type": "code",
   "execution_count": 25,
   "id": "1d0cb492",
   "metadata": {},
   "outputs": [
    {
     "data": {
      "text/plain": [
       "39.0"
      ]
     },
     "execution_count": 25,
     "metadata": {},
     "output_type": "execute_result"
    }
   ],
   "source": [
    "iqr = grad['salary'].quantile(0.75) - grad['salary'].quantile(0.25)\n",
    "iqr"
   ]
  },
  {
   "cell_type": "code",
   "execution_count": 26,
   "id": "0224d978",
   "metadata": {},
   "outputs": [
    {
     "data": {
      "text/plain": [
       "<AxesSubplot:>"
      ]
     },
     "execution_count": 26,
     "metadata": {},
     "output_type": "execute_result"
    },
    {
     "data": {
      "image/png": "[encoded data removed]",
      "text/plain": [
       "<Figure size 432x288 with 1 Axes>"
      ]
     },
     "metadata": {
      "needs_background": "light"
     },
     "output_type": "display_data"
    }
   ],
   "source": [
    "grad[['salary']].boxplot()"
   ]
  },
  {
   "cell_type": "markdown",
   "id": "6e61c78f",
   "metadata": {},
   "source": [
    "Значения зарплаты выше 100 можно считать выбросом."
   ]
  },
  {
   "cell_type": "markdown",
   "id": "0a46b9bb",
   "metadata": {},
   "source": [
    "##### Задача 3\n",
    "\n",
    "В университет на факультеты A и B поступило равное количество студентов, а на факультет C студентов поступило столько же, сколько на A и B вместе. Вероятность того, что студент факультета A сдаст первую сессию, равна 0.8. Для студента факультета B эта вероятность равна 0.7, а для студента факультета C - 0.9. Студент сдал первую сессию. Какова вероятность, что он учится: a) на факультете A? б) на факультете B? в) на факультете C?\n",
    "\n",
    "Замечание: да, эта задача не на тему описательных статистик, но тема важная, и её стоит иногда освежать в памяти."
   ]
  },
  {
   "cell_type": "markdown",
   "id": "cd40e0a3",
   "metadata": {},
   "source": [
    "Вероятность того что студент из факультета A: $P(B_1) = 0.25$"
   ]
  },
  {
   "cell_type": "markdown",
   "id": "d79c5048",
   "metadata": {},
   "source": [
    "Вероятность того что студент из факультета В: $P(B_2) = 0.25$"
   ]
  },
  {
   "cell_type": "markdown",
   "id": "ca1b367e",
   "metadata": {},
   "source": [
    "Вероятность того что студент из факультета С: $P(B_3) = 0.5$"
   ]
  },
  {
   "cell_type": "markdown",
   "id": "135f29c4",
   "metadata": {},
   "source": [
    "Вероятность того, что студент факультета A сдаст первую сессию:  $P(A\\:|\\:B_1) = 0.8$ "
   ]
  },
  {
   "cell_type": "markdown",
   "id": "95e033be",
   "metadata": {},
   "source": [
    "Вероятность того, что студент факультета B сдаст первую сессию: $P(A\\:|\\:B_2) = 0.7$"
   ]
  },
  {
   "cell_type": "markdown",
   "id": "0f304b7a",
   "metadata": {},
   "source": [
    "Вероятность того, что студент факультета C сдаст первую сессию: $P(A\\:|\\:B_3) = 0.9$ "
   ]
  },
  {
   "cell_type": "markdown",
   "id": "a81b35d7",
   "metadata": {},
   "source": [
    "Общая вероятность сдачи 1 сессии -  $P(A)$ (полная вероятность)"
   ]
  },
  {
   "cell_type": "markdown",
   "id": "2f1bfa49",
   "metadata": {},
   "source": [
    "$$P(A) = P(B_1) \\cdot P(A | B_1) + P(B_2) \\cdot P(A | B_2) + P(B_3) \\cdot P(A | B_3)$$"
   ]
  },
  {
   "cell_type": "markdown",
   "id": "589ae3fe",
   "metadata": {},
   "source": [
    "$$P(A) = 0.25 \\cdot 0.8 + 0.25 \\cdot 0.7 + 0.5 \\cdot 0.9 = 0.825$$"
   ]
  },
  {
   "cell_type": "markdown",
   "id": "e1db63ec",
   "metadata": {},
   "source": [
    "Тогда по формуле Байеса: $$P(B\\:|\\:A) = \\frac{P(A\\:|\\:B) \\cdot P(B)}{P(A)}$$"
   ]
  },
  {
   "cell_type": "markdown",
   "id": "89ea382b",
   "metadata": {},
   "source": [
    "Получим для студента из факультета А: $$P(B_1\\:|\\:A) = \\frac{P(A\\:|\\:B_1) \\cdot P(B_1)}{P(A)} = \\frac{0.8 \\cdot0.25}{0.825} = 0,2424$$"
   ]
  },
  {
   "cell_type": "markdown",
   "id": "3699d244",
   "metadata": {},
   "source": [
    "Получим для студента из факультета В: $$P(B_2\\:|\\:A) = \\frac{P(A\\:|\\:B_2) \\cdot P(B_2)}{P(A)} = \\frac{0.7 \\cdot0.25}{0.825} = 0,2121$$"
   ]
  },
  {
   "cell_type": "markdown",
   "id": "b74b162c",
   "metadata": {},
   "source": [
    "Получим для студента из факультета С: $$P(B_3\\:|\\:A) = \\frac{P(A\\:|\\:B_3) \\cdot P(B_3)}{P(A)} = \\frac{0.9 \\cdot0.5}{0.825} = 0,5454$$"
   ]
  },
  {
   "cell_type": "code",
   "execution_count": null,
   "id": "f6e65bda",
   "metadata": {},
   "outputs": [],
   "source": []
  }
 ],
 "metadata": {
  "kernelspec": {
   "display_name": "Python 3 (ipykernel)",
   "language": "python",
   "name": "python3"
  },
  "language_info": {
   "codemirror_mode": {
    "name": "ipython",
    "version": 3
   },
   "file_extension": ".py",
   "mimetype": "text/x-python",
   "name": "python",
   "nbconvert_exporter": "python",
   "pygments_lexer": "ipython3",
   "version": "3.9.1"
  }
 },
 "nbformat": 4,
 "nbformat_minor": 5
}
