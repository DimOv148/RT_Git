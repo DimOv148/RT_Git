{
 "cells": [
  {
   "cell_type": "markdown",
   "id": "05f6c400",
   "metadata": {},
   "source": [
    "### Урок 5. Проверка статистических гипотез. P-значения. Доверительные интервалы. A/B-тестирование"
   ]
  },
  {
   "cell_type": "code",
   "execution_count": 1,
   "id": "da83a040",
   "metadata": {},
   "outputs": [],
   "source": [
    "import numpy as np\n",
    "from scipy import stats"
   ]
  },
  {
   "cell_type": "markdown",
   "id": "8f420c84",
   "metadata": {},
   "source": [
    "##### Задача 1\n",
    "\n",
    "Известно, что генеральная совокупность распределена нормально с известным средним квадратическим отклонением 16. Найти доверительный интервал для оценки математического ожидания mu с надёжностью 0.95, если выборочное среднее равно 80, а объём равен 256."
   ]
  },
  {
   "cell_type": "markdown",
   "id": "4eb8d11a",
   "metadata": {},
   "source": [
    "Поскольку рассматриваемая случайная величина имеет нормальное распределение и известно среднее квадратичное отклонение (соответственно и дисперсия тоже известна), то доверительный интервал для математического ожидания можно построить используя статистику Z и квантили стандартного распределения. "
   ]
  },
  {
   "cell_type": "markdown",
   "id": "078415fe",
   "metadata": {},
   "source": [
    "$$Z = \\dfrac{\\overline{X} - \\mu}{\\sigma / \\sqrt{n}},$$"
   ]
  },
  {
   "cell_type": "markdown",
   "id": "3a634fab",
   "metadata": {},
   "source": [
    "где $\\sigma$ — известный параметр среднего квадратического отклонения. Критическая область будет двухсторонней. Для её построения нам понадобятся квантили  𝑡𝛼/2  и  𝑡1−𝛼/2  стандартного нормального распределения."
   ]
  },
  {
   "cell_type": "markdown",
   "id": "6cbf7940",
   "metadata": {},
   "source": [
    "$$P \\left( t_{\\alpha / 2} \\leq Z \\leq t_{1 - \\alpha / 2} \\right) = p,$$"
   ]
  },
  {
   "cell_type": "markdown",
   "id": "298fab15",
   "metadata": {},
   "source": [
    "Подставим сюда $Z$ и получим:"
   ]
  },
  {
   "cell_type": "markdown",
   "id": "29a1f958",
   "metadata": {},
   "source": [
    "$$P \\left( t_{\\alpha / 2} \\leq \\dfrac{\\overline{X} - \\mu}{\\sigma / \\sqrt{n}} \\leq t_{1 - \\alpha / 2} \\right) = p$$\n",
    "$$P \\left( t_{\\alpha / 2} \\cdot \\dfrac{\\sigma}{\\sqrt{n}} \\leq \\overline{X} - \\mu \\leq t_{1 - \\alpha / 2} \\cdot \\dfrac{\\sigma}{\\sqrt{n}} \\right) = p$$\n",
    "<center>\n",
    "    <div style=\"width: 350px;border:1px solid black;\">\n",
    "        $P \\left( \\overline{X} + t_{\\alpha / 2} \\cdot \\dfrac{\\sigma}{\\sqrt{n}} \\leq \\mu \\leq \\overline{X} + t_{1 - \\alpha / 2} \\cdot \\dfrac{\\sigma}{\\sqrt{n}} \\right) = p$\n",
    "    </div>\n",
    "</center>"
   ]
  },
  {
   "cell_type": "code",
   "execution_count": 31,
   "id": "6648e9c6",
   "metadata": {},
   "outputs": [],
   "source": [
    "mean = 80\n",
    "n = 256\n",
    "p = 0.95\n",
    "sigma = 16\n",
    "alpha = 1 - p"
   ]
  },
  {
   "cell_type": "code",
   "execution_count": 32,
   "id": "8539a069",
   "metadata": {},
   "outputs": [
    {
     "data": {
      "text/plain": [
       "(-1.959963984540054, 1.959963984540054)"
      ]
     },
     "execution_count": 32,
     "metadata": {},
     "output_type": "execute_result"
    }
   ],
   "source": [
    "t1 = stats.norm.ppf(alpha / 2)\n",
    "t2 = stats.norm.ppf(1 - alpha / 2)\n",
    "\n",
    "t1, t2"
   ]
  },
  {
   "cell_type": "markdown",
   "id": "1d929e53",
   "metadata": {},
   "source": [
    "И тогда доверительный интервал:"
   ]
  },
  {
   "cell_type": "code",
   "execution_count": 33,
   "id": "ef84da65",
   "metadata": {},
   "outputs": [
    {
     "data": {
      "text/plain": [
       "(78.04003601545995, 81.95996398454005)"
      ]
     },
     "execution_count": 33,
     "metadata": {},
     "output_type": "execute_result"
    }
   ],
   "source": [
    "(mean + t1 * sigma / np.sqrt(n), mean + t2 * sigma / np.sqrt(n))"
   ]
  },
  {
   "cell_type": "markdown",
   "id": "528db7ce",
   "metadata": {},
   "source": [
    "#### Задача 2\n",
    "\n",
    "Продавец утверждает, что средний вес пачки печенья составляет 200 г. Из партии извлечена выборка из 10 пачек. Вес каждой пачки составляет:\n",
    "\n",
    "202, 203, 199, 197, 195, 201, 200, 204, 194, 190\n",
    "Известно, что их веса распределены нормально.\n",
    "1. Верно ли утверждение продавца, если учитывать, что уровень значимости равен 1%?\n",
    "2. Найдите P-значение для данного теста."
   ]
  },
  {
   "cell_type": "code",
   "execution_count": 12,
   "id": "91e7e1c9",
   "metadata": {},
   "outputs": [
    {
     "data": {
      "text/plain": [
       "(198.5, 4.453463071962462)"
      ]
     },
     "execution_count": 12,
     "metadata": {},
     "output_type": "execute_result"
    }
   ],
   "source": [
    "weights = np.array([202, 203, 199, 197, 195, 201, 200, 204, 194, 190])\n",
    "n = 10\n",
    "\n",
    "mean = weights.mean()\n",
    "std = weights.std(ddof=1)\n",
    "\n",
    "mean, std"
   ]
  },
  {
   "cell_type": "markdown",
   "id": "834eafa6",
   "metadata": {},
   "source": [
    "Поскольку мы проверяем гипотезу о математическом ожидании нормально распределённой случайной величины с неизвестной дисперсией, то будем использовать $T$статистику:"
   ]
  },
  {
   "cell_type": "markdown",
   "id": "8fb9e0ae",
   "metadata": {},
   "source": [
    "$$t = \\dfrac{\\overline{X} - \\mu}{\\sigma_X / \\sqrt{n}},$$"
   ]
  },
  {
   "cell_type": "markdown",
   "id": "dda8fa37",
   "metadata": {},
   "source": [
    "Рассчитаем $T$статистику:"
   ]
  },
  {
   "cell_type": "code",
   "execution_count": 13,
   "id": "51565ff8",
   "metadata": {},
   "outputs": [
    {
     "data": {
      "text/plain": [
       "-1.0651074037450896"
      ]
     },
     "execution_count": 13,
     "metadata": {},
     "output_type": "execute_result"
    }
   ],
   "source": [
    "T = (mean-200)/(std/np.sqrt(n))\n",
    "T"
   ]
  },
  {
   "cell_type": "markdown",
   "id": "2a275985",
   "metadata": {},
   "source": [
    "Критическая область:"
   ]
  },
  {
   "cell_type": "code",
   "execution_count": 14,
   "id": "ca4f5927",
   "metadata": {},
   "outputs": [
    {
     "data": {
      "text/plain": [
       "(-3.2498355440153697, 3.2498355440153697)"
      ]
     },
     "execution_count": 14,
     "metadata": {},
     "output_type": "execute_result"
    }
   ],
   "source": [
    "alpha = 0.01\n",
    "\n",
    "t1 = stats.t.ppf(alpha / 2, df=n - 1)\n",
    "t2 = stats.t.ppf(1 - alpha / 2, df=n - 1)\n",
    "\n",
    "t1, t2"
   ]
  },
  {
   "cell_type": "markdown",
   "id": "a958c170",
   "metadata": {},
   "source": [
    "Итак, теперь критическая область:\n",
    "$$\\Omega_\\alpha = (-\\infty, -3.24) \\cup (3.24, \\infty)$$"
   ]
  },
  {
   "cell_type": "markdown",
   "id": "b164f0fa",
   "metadata": {},
   "source": [
    "Поскольку значение $T$ не попадает в критическую область, то утверждение продавца верно."
   ]
  },
  {
   "cell_type": "code",
   "execution_count": 17,
   "id": "a30e68e7",
   "metadata": {},
   "outputs": [
    {
     "data": {
      "text/plain": [
       "0.3145666035247285"
      ]
     },
     "execution_count": 17,
     "metadata": {},
     "output_type": "execute_result"
    }
   ],
   "source": [
    "p_left = stats.t.cdf(T, df=n - 1)\n",
    "p_right = 1 - stats.t.cdf(T, df=n - 1)\n",
    "\n",
    "pvalue = 2 * min(p_left, p_right)\n",
    "\n",
    "pvalue"
   ]
  },
  {
   "cell_type": "markdown",
   "id": "86abb831",
   "metadata": {},
   "source": [
    "Поскольку pvalue больше, чем $\\alpha = 0.01$, то можно сделать вывод, что утверждение продавца так же верно с вероятностью 99% "
   ]
  },
  {
   "cell_type": "markdown",
   "id": "b5e3741b",
   "metadata": {},
   "source": [
    "#### Задача 3\n",
    "\n",
    "Утверждается, что шарики для подшипников, изготовленные автоматическим станком, имеют средний диаметр 17 мм. Используя уровень значимости 0.025 и правостороннюю критическую область, проверить данную гипотезу при условии, что в выборке из 100 шариков средний диаметр оказался равным 17.5 мм, а дисперсия известна и равна 4 мм."
   ]
  },
  {
   "cell_type": "code",
   "execution_count": 20,
   "id": "e768ec8e",
   "metadata": {},
   "outputs": [
    {
     "data": {
      "text/plain": [
       "array([18.46578637, 16.67206004, 19.83282478, 16.92307731, 18.52646117,\n",
       "       16.2812967 , 20.18717668, 16.24059447, 19.51363773, 17.64025933,\n",
       "       17.76259673, 18.90824255, 18.29397653, 17.07680207, 19.38953484,\n",
       "       18.22926953, 16.53122911, 17.3104733 , 16.43384754, 16.03726791,\n",
       "       17.20017358, 16.99084855, 12.66973259, 18.66314387, 19.35806286,\n",
       "       17.91621215, 18.75686204, 18.71146458, 16.60814143, 20.62131284,\n",
       "       17.24293659, 16.47650619, 19.59769318, 19.21670298, 18.55730267,\n",
       "       20.83130465, 19.31096354, 20.33442093, 18.31457223, 16.05249122,\n",
       "       18.60028638, 17.56286695, 16.75842713, 16.90959037, 16.77740237,\n",
       "       14.8441752 , 17.83177668, 16.79637732, 17.84813616, 21.06375561,\n",
       "       17.94214009, 17.08030864, 15.46657595, 21.38986221, 15.82584278,\n",
       "       15.85687487, 14.43494791, 17.1908025 , 13.47761693, 17.00242386,\n",
       "       16.622159  , 17.36167363, 18.59974719, 18.80350917, 18.96573893,\n",
       "       19.85378244, 15.36407422, 16.07197145, 20.73065969, 18.02087262,\n",
       "       21.42693327, 17.33377202, 18.77018451, 16.51581855, 17.75598025,\n",
       "       16.96507741, 19.08319644, 12.43898545, 15.4014322 , 20.19283517,\n",
       "       15.17876479, 15.49088973, 16.38714392, 18.52096015, 15.03491424,\n",
       "       16.0740525 , 18.34640726, 17.59292182, 15.2952013 , 16.53675845,\n",
       "       17.77727156, 19.80281503, 16.32464472, 17.08147134, 17.89287447,\n",
       "       20.28628121, 18.00768576, 16.9245402 , 17.16170874, 19.82507046])"
      ]
     },
     "execution_count": 20,
     "metadata": {},
     "output_type": "execute_result"
    }
   ],
   "source": [
    "n = 100\n",
    "d = 2\n",
    "samples = np.random.normal(17.5, d, size=n)\n",
    "\n",
    "samples"
   ]
  },
  {
   "cell_type": "markdown",
   "id": "446b993c",
   "metadata": {},
   "source": [
    "Поскольку мы проверяем гипотезу относительно математического ожидания нормально распределённой случайной величины с известной дисперсией, будем использовать $Z$ статистику:"
   ]
  },
  {
   "cell_type": "markdown",
   "id": "3b6deb0b",
   "metadata": {},
   "source": [
    "$$Z = \\dfrac{\\overline{X} - \\mu}{\\sigma / \\sqrt{n}},$$"
   ]
  },
  {
   "cell_type": "markdown",
   "id": "c341a882",
   "metadata": {},
   "source": [
    "При условии верности нулевой гипотезы статистика имеет стандартное нормальное распределение."
   ]
  },
  {
   "cell_type": "markdown",
   "id": "93bbdf06",
   "metadata": {},
   "source": [
    "Рассчитаем статистику:"
   ]
  },
  {
   "cell_type": "code",
   "execution_count": 23,
   "id": "f65544ce",
   "metadata": {},
   "outputs": [],
   "source": [
    "def statistic(samples):\n",
    "    return (samples.mean() - 17) / (2 / np.sqrt(n))"
   ]
  },
  {
   "cell_type": "code",
   "execution_count": 24,
   "id": "f218fb6d",
   "metadata": {},
   "outputs": [
    {
     "data": {
      "text/plain": [
       "3.108411727714806"
      ]
     },
     "execution_count": 24,
     "metadata": {},
     "output_type": "execute_result"
    }
   ],
   "source": [
    "z = statistic(samples)\n",
    "z"
   ]
  },
  {
   "cell_type": "markdown",
   "id": "0471550a",
   "metadata": {},
   "source": [
    "Поскольку используется правосторонняя критическая область $\\Omega_\\alpha = (t_{1 - \\alpha}, \\infty)$ и $\\alpha = 0.025$ :"
   ]
  },
  {
   "cell_type": "code",
   "execution_count": 30,
   "id": "61c5966c",
   "metadata": {},
   "outputs": [
    {
     "data": {
      "text/plain": [
       "\"Критическая область (1.959963984540054, '+inf')\""
      ]
     },
     "execution_count": 30,
     "metadata": {},
     "output_type": "execute_result"
    }
   ],
   "source": [
    "alpha = 0.025\n",
    "\n",
    "T = stats.norm.ppf(1 - alpha)\n",
    "\n",
    "f\"Критическая область ({T}, '+inf')\""
   ]
  },
  {
   "cell_type": "markdown",
   "id": "2d14ac1d",
   "metadata": {},
   "source": [
    "Значение статистики $\\ Z$ попало в критическую область (3.1 > 1.96), поэтому гипотезу, что шарики для подшипников, изготовленные автоматическим станком, имеют средний диаметр 17 мм, отвергаем."
   ]
  }
 ],
 "metadata": {
  "kernelspec": {
   "display_name": "Python 3 (ipykernel)",
   "language": "python",
   "name": "python3"
  },
  "language_info": {
   "codemirror_mode": {
    "name": "ipython",
    "version": 3
   },
   "file_extension": ".py",
   "mimetype": "text/x-python",
   "name": "python",
   "nbconvert_exporter": "python",
   "pygments_lexer": "ipython3",
   "version": "3.9.1"
  }
 },
 "nbformat": 4,
 "nbformat_minor": 5
}
