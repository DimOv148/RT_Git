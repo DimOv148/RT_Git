{
 "cells": [
  {
   "cell_type": "markdown",
   "id": "26c045a6",
   "metadata": {},
   "source": [
    "### Урок 7. Многомерный статистический анализ. Линейная регрессия"
   ]
  },
  {
   "cell_type": "markdown",
   "id": "25e93f63",
   "metadata": {},
   "source": [
    "#### Задача 1\n",
    "\n",
    "Дана матрица объект-признак\n",
    "\n",
    "Дана матрица объект-признак\n",
    "```\n",
    "X = [[ 1.22401313,  2.30868478,  3.03636353,  2.69287214],\n",
    "     [-0.18757272,  1.30337355,  5.12093014,  3.46363202],\n",
    "     [-0.81094525,  1.82463398,  5.79686488,  1.86159445],\n",
    "     [ 0.75129018,  2.67392052,  3.65529809,  1.66746094],\n",
    "     [ 0.00972362,  1.97367255,  2.50594319,  1.69755173],\n",
    "     [-0.62972637,  0.77750764,  2.84124027,  4.54410559],\n",
    "     [ 2.29536229,  1.81206697,  1.95026215,  1.51874636],\n",
    "     [ 0.0920418 ,  2.26971361,  7.47708735,  2.61081203],\n",
    "     [ 2.39252799,  3.17563985,  3.61420599,  5.10773362],\n",
    "     [ 0.54983815,  2.87988651,  1.65752765,  1.59635987]]\n",
    "```\n",
    "и значения целевой переменной\n",
    "```\n",
    "y = [ 9.26193358,  9.700363  ,  8.67214805,  8.74796974,  6.18689108,\n",
    "      7.53312713,  7.57643777, 12.44965478, 14.29010746,  6.68361218]\n",
    "```\n",
    "\n",
    "Подберите два признака (из четырёх) так, чтобы уровень линейной зависимости целевой переменной от значений этих признаков был максимальным. Другими словами, модель линейной регрессии на этих признаках должна давать наилучший результат.\n",
    "Является ли значимым получившееся уравнение регрессии?"
   ]
  },
  {
   "cell_type": "code",
   "execution_count": 1,
   "id": "a4d9f0b5",
   "metadata": {},
   "outputs": [],
   "source": [
    "import numpy as np"
   ]
  },
  {
   "cell_type": "code",
   "execution_count": 2,
   "id": "139c8581",
   "metadata": {},
   "outputs": [],
   "source": [
    "X = [[ 1.22401313, 2.30868478, 3.03636353, 2.69287214],\n",
    "[-0.18757272, 1.30337355, 5.12093014, 3.46363202],\n",
    "[-0.81094525, 1.82463398, 5.79686488, 1.86159445],\n",
    "[ 0.75129018, 2.67392052, 3.65529809, 1.66746094],\n",
    "[ 0.00972362, 1.97367255, 2.50594319, 1.69755173],\n",
    "[-0.62972637, 0.77750764, 2.84124027, 4.54410559],\n",
    "[ 2.29536229, 1.81206697, 1.95026215, 1.51874636],\n",
    "[ 0.0920418 , 2.26971361, 7.47708735, 2.61081203],\n",
    "[ 2.39252799, 3.17563985, 3.61420599, 5.10773362],\n",
    "[ 0.54983815, 2.87988651, 1.65752765, 1.59635987]]"
   ]
  },
  {
   "cell_type": "code",
   "execution_count": 29,
   "id": "7e1802c9",
   "metadata": {},
   "outputs": [],
   "source": [
    "x = np.array(X)"
   ]
  },
  {
   "cell_type": "code",
   "execution_count": 30,
   "id": "e01c0b10",
   "metadata": {},
   "outputs": [
    {
     "data": {
      "text/plain": [
       "array([[ 1.        ,  1.22401313,  2.30868478,  3.03636353,  2.69287214],\n",
       "       [ 1.        , -0.18757272,  1.30337355,  5.12093014,  3.46363202],\n",
       "       [ 1.        , -0.81094525,  1.82463398,  5.79686488,  1.86159445],\n",
       "       [ 1.        ,  0.75129018,  2.67392052,  3.65529809,  1.66746094],\n",
       "       [ 1.        ,  0.00972362,  1.97367255,  2.50594319,  1.69755173],\n",
       "       [ 1.        , -0.62972637,  0.77750764,  2.84124027,  4.54410559],\n",
       "       [ 1.        ,  2.29536229,  1.81206697,  1.95026215,  1.51874636],\n",
       "       [ 1.        ,  0.0920418 ,  2.26971361,  7.47708735,  2.61081203],\n",
       "       [ 1.        ,  2.39252799,  3.17563985,  3.61420599,  5.10773362],\n",
       "       [ 1.        ,  0.54983815,  2.87988651,  1.65752765,  1.59635987]])"
      ]
     },
     "execution_count": 30,
     "metadata": {},
     "output_type": "execute_result"
    }
   ],
   "source": [
    "ones = np.ones((x.shape[0], 1))\n",
    "x = np.hstack((ones, x))\n",
    "x"
   ]
  },
  {
   "cell_type": "code",
   "execution_count": 9,
   "id": "4070ddac",
   "metadata": {},
   "outputs": [],
   "source": [
    "Y = [ 9.26193358, 9.700363 , 8.67214805, 8.74796974, 6.18689108,\n",
    "7.53312713, 7.57643777, 12.44965478, 14.29010746, 6.68361218]"
   ]
  },
  {
   "cell_type": "code",
   "execution_count": 10,
   "id": "490de8ce",
   "metadata": {},
   "outputs": [
    {
     "data": {
      "text/plain": [
       "array([ 9.26193358,  9.700363  ,  8.67214805,  8.74796974,  6.18689108,\n",
       "        7.53312713,  7.57643777, 12.44965478, 14.29010746,  6.68361218])"
      ]
     },
     "execution_count": 10,
     "metadata": {},
     "output_type": "execute_result"
    }
   ],
   "source": [
    "y = np.array(Y)\n",
    "y"
   ]
  },
  {
   "cell_type": "code",
   "execution_count": 34,
   "id": "10b06f42",
   "metadata": {},
   "outputs": [
    {
     "data": {
      "text/plain": [
       "array([[ 1.        ,  1.22401313,  2.30868478],\n",
       "       [ 1.        , -0.18757272,  1.30337355],\n",
       "       [ 1.        , -0.81094525,  1.82463398],\n",
       "       [ 1.        ,  0.75129018,  2.67392052],\n",
       "       [ 1.        ,  0.00972362,  1.97367255],\n",
       "       [ 1.        , -0.62972637,  0.77750764],\n",
       "       [ 1.        ,  2.29536229,  1.81206697],\n",
       "       [ 1.        ,  0.0920418 ,  2.26971361],\n",
       "       [ 1.        ,  2.39252799,  3.17563985],\n",
       "       [ 1.        ,  0.54983815,  2.87988651]])"
      ]
     },
     "execution_count": 34,
     "metadata": {},
     "output_type": "execute_result"
    }
   ],
   "source": [
    "X12 = x[:, list(range(0, 1)) + list(range(1, 2)) + list(range(2, 3))]\n",
    "X12"
   ]
  },
  {
   "cell_type": "code",
   "execution_count": 35,
   "id": "ea4dd0b8",
   "metadata": {},
   "outputs": [
    {
     "data": {
      "text/plain": [
       "array([[ 1.        ,  1.22401313,  3.03636353],\n",
       "       [ 1.        , -0.18757272,  5.12093014],\n",
       "       [ 1.        , -0.81094525,  5.79686488],\n",
       "       [ 1.        ,  0.75129018,  3.65529809],\n",
       "       [ 1.        ,  0.00972362,  2.50594319],\n",
       "       [ 1.        , -0.62972637,  2.84124027],\n",
       "       [ 1.        ,  2.29536229,  1.95026215],\n",
       "       [ 1.        ,  0.0920418 ,  7.47708735],\n",
       "       [ 1.        ,  2.39252799,  3.61420599],\n",
       "       [ 1.        ,  0.54983815,  1.65752765]])"
      ]
     },
     "execution_count": 35,
     "metadata": {},
     "output_type": "execute_result"
    }
   ],
   "source": [
    "X13 = x[:, list(range(0, 1)) + list(range(1, 2)) + list(range(3, 4))]\n",
    "X13"
   ]
  },
  {
   "cell_type": "code",
   "execution_count": 36,
   "id": "947c5734",
   "metadata": {},
   "outputs": [
    {
     "data": {
      "text/plain": [
       "array([[ 1.        ,  1.22401313,  2.69287214],\n",
       "       [ 1.        , -0.18757272,  3.46363202],\n",
       "       [ 1.        , -0.81094525,  1.86159445],\n",
       "       [ 1.        ,  0.75129018,  1.66746094],\n",
       "       [ 1.        ,  0.00972362,  1.69755173],\n",
       "       [ 1.        , -0.62972637,  4.54410559],\n",
       "       [ 1.        ,  2.29536229,  1.51874636],\n",
       "       [ 1.        ,  0.0920418 ,  2.61081203],\n",
       "       [ 1.        ,  2.39252799,  5.10773362],\n",
       "       [ 1.        ,  0.54983815,  1.59635987]])"
      ]
     },
     "execution_count": 36,
     "metadata": {},
     "output_type": "execute_result"
    }
   ],
   "source": [
    "X14 = x[:, list(range(0, 1)) + list(range(1, 2)) + list(range(4, 5))]\n",
    "X14"
   ]
  },
  {
   "cell_type": "code",
   "execution_count": 37,
   "id": "7d1bf6bd",
   "metadata": {},
   "outputs": [
    {
     "data": {
      "text/plain": [
       "array([[1.        , 2.30868478, 3.03636353],\n",
       "       [1.        , 1.30337355, 5.12093014],\n",
       "       [1.        , 1.82463398, 5.79686488],\n",
       "       [1.        , 2.67392052, 3.65529809],\n",
       "       [1.        , 1.97367255, 2.50594319],\n",
       "       [1.        , 0.77750764, 2.84124027],\n",
       "       [1.        , 1.81206697, 1.95026215],\n",
       "       [1.        , 2.26971361, 7.47708735],\n",
       "       [1.        , 3.17563985, 3.61420599],\n",
       "       [1.        , 2.87988651, 1.65752765]])"
      ]
     },
     "execution_count": 37,
     "metadata": {},
     "output_type": "execute_result"
    }
   ],
   "source": [
    "X23 = x[:, list(range(0, 1)) + list(range(2, 3)) + list(range(3, 4))]\n",
    "X23"
   ]
  },
  {
   "cell_type": "code",
   "execution_count": 38,
   "id": "c898f1c0",
   "metadata": {},
   "outputs": [
    {
     "data": {
      "text/plain": [
       "array([[1.        , 2.30868478, 2.69287214],\n",
       "       [1.        , 1.30337355, 3.46363202],\n",
       "       [1.        , 1.82463398, 1.86159445],\n",
       "       [1.        , 2.67392052, 1.66746094],\n",
       "       [1.        , 1.97367255, 1.69755173],\n",
       "       [1.        , 0.77750764, 4.54410559],\n",
       "       [1.        , 1.81206697, 1.51874636],\n",
       "       [1.        , 2.26971361, 2.61081203],\n",
       "       [1.        , 3.17563985, 5.10773362],\n",
       "       [1.        , 2.87988651, 1.59635987]])"
      ]
     },
     "execution_count": 38,
     "metadata": {},
     "output_type": "execute_result"
    }
   ],
   "source": [
    "X24 = x[:, list(range(0, 1)) + list(range(2, 3)) + list(range(4, 5))]\n",
    "X24"
   ]
  },
  {
   "cell_type": "code",
   "execution_count": 39,
   "id": "9f514c90",
   "metadata": {},
   "outputs": [
    {
     "data": {
      "text/plain": [
       "array([[1.        , 3.03636353, 2.69287214],\n",
       "       [1.        , 5.12093014, 3.46363202],\n",
       "       [1.        , 5.79686488, 1.86159445],\n",
       "       [1.        , 3.65529809, 1.66746094],\n",
       "       [1.        , 2.50594319, 1.69755173],\n",
       "       [1.        , 2.84124027, 4.54410559],\n",
       "       [1.        , 1.95026215, 1.51874636],\n",
       "       [1.        , 7.47708735, 2.61081203],\n",
       "       [1.        , 3.61420599, 5.10773362],\n",
       "       [1.        , 1.65752765, 1.59635987]])"
      ]
     },
     "execution_count": 39,
     "metadata": {},
     "output_type": "execute_result"
    }
   ],
   "source": [
    "X34 = x[:, list(range(0, 1)) + list(range(3, 4)) + list(range(4, 5))]\n",
    "X34"
   ]
  },
  {
   "cell_type": "code",
   "execution_count": 53,
   "id": "88a471d4",
   "metadata": {},
   "outputs": [
    {
     "name": "stdout",
     "output_type": "stream",
     "text": [
      "                            OLS Regression Results                            \n",
      "==============================================================================\n",
      "Dep. Variable:                      y   R-squared:                       0.181\n",
      "Model:                            OLS   Adj. R-squared:                 -0.053\n",
      "Method:                 Least Squares   F-statistic:                    0.7742\n",
      "Date:                Mon, 13 Sep 2021   Prob (F-statistic):              0.497\n",
      "Time:                        17:34:55   Log-Likelihood:                -21.975\n",
      "No. Observations:                  10   AIC:                             49.95\n",
      "Df Residuals:                       7   BIC:                             50.86\n",
      "Df Model:                           2                                         \n",
      "Covariance Type:            nonrobust                                         \n",
      "==============================================================================\n",
      "                 coef    std err          t      P>|t|      [0.025      0.975]\n",
      "------------------------------------------------------------------------------\n",
      "const          6.7078      2.932      2.288      0.056      -0.226      13.642\n",
      "x1             0.4079      0.957      0.426      0.683      -1.855       2.671\n",
      "x2             1.0336      1.475      0.701      0.506      -2.454       4.521\n",
      "==============================================================================\n",
      "Omnibus:                        0.701   Durbin-Watson:                   1.988\n",
      "Prob(Omnibus):                  0.704   Jarque-Bera (JB):                0.585\n",
      "Skew:                           0.203   Prob(JB):                        0.747\n",
      "Kurtosis:                       1.887   Cond. No.                         10.1\n",
      "==============================================================================\n",
      "\n",
      "Notes:\n",
      "[1] Standard Errors assume that the covariance matrix of the errors is correctly specified.\n"
     ]
    },
    {
     "name": "stderr",
     "output_type": "stream",
     "text": [
      "c:\\python39\\lib\\site-packages\\scipy\\stats\\stats.py:1603: UserWarning: kurtosistest only valid for n>=20 ... continuing anyway, n=10\n",
      "  warnings.warn(\"kurtosistest only valid for n>=20 ... continuing \"\n"
     ]
    }
   ],
   "source": [
    "import statsmodels.api as sm\n",
    "model = sm.OLS(y, X12)\n",
    "results = model.fit()\n",
    "print(results.summary())"
   ]
  },
  {
   "cell_type": "code",
   "execution_count": 54,
   "id": "bcba039b",
   "metadata": {},
   "outputs": [
    {
     "name": "stdout",
     "output_type": "stream",
     "text": [
      "                            OLS Regression Results                            \n",
      "==============================================================================\n",
      "Dep. Variable:                      y   R-squared:                       0.763\n",
      "Model:                            OLS   Adj. R-squared:                  0.696\n",
      "Method:                 Least Squares   F-statistic:                     11.29\n",
      "Date:                Mon, 13 Sep 2021   Prob (F-statistic):            0.00644\n",
      "Time:                        17:36:22   Log-Likelihood:                -15.767\n",
      "No. Observations:                  10   AIC:                             37.53\n",
      "Df Residuals:                       7   BIC:                             38.44\n",
      "Df Model:                           2                                         \n",
      "Covariance Type:            nonrobust                                         \n",
      "==============================================================================\n",
      "                 coef    std err          t      P>|t|      [0.025      0.975]\n",
      "------------------------------------------------------------------------------\n",
      "const          3.6246      1.261      2.875      0.024       0.643       6.606\n",
      "x1             1.6253      0.459      3.542      0.009       0.540       2.710\n",
      "x2             1.2113      0.278      4.351      0.003       0.553       1.870\n",
      "==============================================================================\n",
      "Omnibus:                        1.625   Durbin-Watson:                   2.459\n",
      "Prob(Omnibus):                  0.444   Jarque-Bera (JB):                0.302\n",
      "Skew:                           0.418   Prob(JB):                        0.860\n",
      "Kurtosis:                       3.161   Cond. No.                         12.7\n",
      "==============================================================================\n",
      "\n",
      "Notes:\n",
      "[1] Standard Errors assume that the covariance matrix of the errors is correctly specified.\n"
     ]
    },
    {
     "name": "stderr",
     "output_type": "stream",
     "text": [
      "c:\\python39\\lib\\site-packages\\scipy\\stats\\stats.py:1603: UserWarning: kurtosistest only valid for n>=20 ... continuing anyway, n=10\n",
      "  warnings.warn(\"kurtosistest only valid for n>=20 ... continuing \"\n"
     ]
    }
   ],
   "source": [
    "model = sm.OLS(y, X13)\n",
    "results = model.fit()\n",
    "print(results.summary())"
   ]
  },
  {
   "cell_type": "code",
   "execution_count": 55,
   "id": "9184db57",
   "metadata": {},
   "outputs": [
    {
     "name": "stdout",
     "output_type": "stream",
     "text": [
      "                            OLS Regression Results                            \n",
      "==============================================================================\n",
      "Dep. Variable:                      y   R-squared:                       0.453\n",
      "Model:                            OLS   Adj. R-squared:                  0.297\n",
      "Method:                 Least Squares   F-statistic:                     2.902\n",
      "Date:                Mon, 13 Sep 2021   Prob (F-statistic):              0.121\n",
      "Time:                        17:36:40   Log-Likelihood:                -19.955\n",
      "No. Observations:                  10   AIC:                             45.91\n",
      "Df Residuals:                       7   BIC:                             46.82\n",
      "Df Model:                           2                                         \n",
      "Covariance Type:            nonrobust                                         \n",
      "==============================================================================\n",
      "                 coef    std err          t      P>|t|      [0.025      0.975]\n",
      "------------------------------------------------------------------------------\n",
      "const          5.7069      1.626      3.510      0.010       1.862       9.551\n",
      "x1             0.6836      0.638      1.072      0.319      -0.824       2.191\n",
      "x2             1.1265      0.548      2.054      0.079      -0.170       2.423\n",
      "==============================================================================\n",
      "Omnibus:                        1.064   Durbin-Watson:                   1.563\n",
      "Prob(Omnibus):                  0.587   Jarque-Bera (JB):                0.378\n",
      "Skew:                           0.464   Prob(JB):                        0.828\n",
      "Kurtosis:                       2.781   Cond. No.                         7.94\n",
      "==============================================================================\n",
      "\n",
      "Notes:\n",
      "[1] Standard Errors assume that the covariance matrix of the errors is correctly specified.\n"
     ]
    },
    {
     "name": "stderr",
     "output_type": "stream",
     "text": [
      "c:\\python39\\lib\\site-packages\\scipy\\stats\\stats.py:1603: UserWarning: kurtosistest only valid for n>=20 ... continuing anyway, n=10\n",
      "  warnings.warn(\"kurtosistest only valid for n>=20 ... continuing \"\n"
     ]
    }
   ],
   "source": [
    "model = sm.OLS(y, X14)\n",
    "results = model.fit()\n",
    "print(results.summary())"
   ]
  },
  {
   "cell_type": "code",
   "execution_count": 56,
   "id": "65493a22",
   "metadata": {},
   "outputs": [
    {
     "name": "stdout",
     "output_type": "stream",
     "text": [
      "                            OLS Regression Results                            \n",
      "==============================================================================\n",
      "Dep. Variable:                      y   R-squared:                       0.548\n",
      "Model:                            OLS   Adj. R-squared:                  0.419\n",
      "Method:                 Least Squares   F-statistic:                     4.242\n",
      "Date:                Mon, 13 Sep 2021   Prob (F-statistic):             0.0621\n",
      "Time:                        17:37:21   Log-Likelihood:                -19.005\n",
      "No. Observations:                  10   AIC:                             44.01\n",
      "Df Residuals:                       7   BIC:                             44.92\n",
      "Df Model:                           2                                         \n",
      "Covariance Type:            nonrobust                                         \n",
      "==============================================================================\n",
      "                 coef    std err          t      P>|t|      [0.025      0.975]\n",
      "------------------------------------------------------------------------------\n",
      "const          2.4890      2.474      1.006      0.348      -3.361       8.339\n",
      "x1             1.6061      0.894      1.797      0.115      -0.508       3.720\n",
      "x2             0.8627      0.352      2.451      0.044       0.031       1.695\n",
      "==============================================================================\n",
      "Omnibus:                        2.232   Durbin-Watson:                   2.291\n",
      "Prob(Omnibus):                  0.328   Jarque-Bera (JB):                0.903\n",
      "Skew:                           0.734   Prob(JB):                        0.637\n",
      "Kurtosis:                       2.897   Cond. No.                         19.8\n",
      "==============================================================================\n",
      "\n",
      "Notes:\n",
      "[1] Standard Errors assume that the covariance matrix of the errors is correctly specified.\n"
     ]
    },
    {
     "name": "stderr",
     "output_type": "stream",
     "text": [
      "c:\\python39\\lib\\site-packages\\scipy\\stats\\stats.py:1603: UserWarning: kurtosistest only valid for n>=20 ... continuing anyway, n=10\n",
      "  warnings.warn(\"kurtosistest only valid for n>=20 ... continuing \"\n"
     ]
    }
   ],
   "source": [
    "model = sm.OLS(y, X23)\n",
    "results = model.fit()\n",
    "print(results.summary())"
   ]
  },
  {
   "cell_type": "code",
   "execution_count": 58,
   "id": "78378570",
   "metadata": {},
   "outputs": [
    {
     "name": "stdout",
     "output_type": "stream",
     "text": [
      "                            OLS Regression Results                            \n",
      "==============================================================================\n",
      "Dep. Variable:                      y   R-squared:                       0.606\n",
      "Model:                            OLS   Adj. R-squared:                  0.494\n",
      "Method:                 Least Squares   F-statistic:                     5.388\n",
      "Date:                Mon, 13 Sep 2021   Prob (F-statistic):             0.0383\n",
      "Time:                        17:37:45   Log-Likelihood:                -18.315\n",
      "No. Observations:                  10   AIC:                             42.63\n",
      "Df Residuals:                       7   BIC:                             43.54\n",
      "Df Model:                           2                                         \n",
      "Covariance Type:            nonrobust                                         \n",
      "==============================================================================\n",
      "                 coef    std err          t      P>|t|      [0.025      0.975]\n",
      "------------------------------------------------------------------------------\n",
      "const          1.9169      2.377      0.807      0.446      -3.703       7.537\n",
      "x1             1.7437      0.840      2.077      0.076      -0.241       3.729\n",
      "x2             1.3197      0.469      2.817      0.026       0.212       2.428\n",
      "==============================================================================\n",
      "Omnibus:                        0.692   Durbin-Watson:                   1.398\n",
      "Prob(Omnibus):                  0.707   Jarque-Bera (JB):                0.223\n",
      "Skew:                           0.341   Prob(JB):                        0.895\n",
      "Kurtosis:                       2.736   Cond. No.                         16.1\n",
      "==============================================================================\n",
      "\n",
      "Notes:\n",
      "[1] Standard Errors assume that the covariance matrix of the errors is correctly specified.\n"
     ]
    },
    {
     "name": "stderr",
     "output_type": "stream",
     "text": [
      "c:\\python39\\lib\\site-packages\\scipy\\stats\\stats.py:1603: UserWarning: kurtosistest only valid for n>=20 ... continuing anyway, n=10\n",
      "  warnings.warn(\"kurtosistest only valid for n>=20 ... continuing \"\n"
     ]
    }
   ],
   "source": [
    "model = sm.OLS(y, X24)\n",
    "results = model.fit()\n",
    "print(results.summary())"
   ]
  },
  {
   "cell_type": "code",
   "execution_count": 59,
   "id": "b9b75a7a",
   "metadata": {},
   "outputs": [
    {
     "name": "stdout",
     "output_type": "stream",
     "text": [
      "                            OLS Regression Results                            \n",
      "==============================================================================\n",
      "Dep. Variable:                      y   R-squared:                       0.622\n",
      "Model:                            OLS   Adj. R-squared:                  0.515\n",
      "Method:                 Least Squares   F-statistic:                     5.770\n",
      "Date:                Mon, 13 Sep 2021   Prob (F-statistic):             0.0331\n",
      "Time:                        17:38:02   Log-Likelihood:                -18.104\n",
      "No. Observations:                  10   AIC:                             42.21\n",
      "Df Residuals:                       7   BIC:                             43.12\n",
      "Df Model:                           2                                         \n",
      "Covariance Type:            nonrobust                                         \n",
      "==============================================================================\n",
      "                 coef    std err          t      P>|t|      [0.025      0.975]\n",
      "------------------------------------------------------------------------------\n",
      "const          3.6400      1.705      2.135      0.070      -0.391       7.671\n",
      "x1             0.7075      0.323      2.191      0.065      -0.056       1.471\n",
      "x2             1.0485      0.458      2.291      0.056      -0.034       2.131\n",
      "==============================================================================\n",
      "Omnibus:                        0.403   Durbin-Watson:                   1.757\n",
      "Prob(Omnibus):                  0.817   Jarque-Bera (JB):                0.070\n",
      "Skew:                          -0.157   Prob(JB):                        0.966\n",
      "Kurtosis:                       2.737   Cond. No.                         15.6\n",
      "==============================================================================\n",
      "\n",
      "Notes:\n",
      "[1] Standard Errors assume that the covariance matrix of the errors is correctly specified.\n"
     ]
    },
    {
     "name": "stderr",
     "output_type": "stream",
     "text": [
      "c:\\python39\\lib\\site-packages\\scipy\\stats\\stats.py:1603: UserWarning: kurtosistest only valid for n>=20 ... continuing anyway, n=10\n",
      "  warnings.warn(\"kurtosistest only valid for n>=20 ... continuing \"\n"
     ]
    }
   ],
   "source": [
    "model = sm.OLS(y, X34)\n",
    "results = model.fit()\n",
    "print(results.summary())"
   ]
  },
  {
   "cell_type": "markdown",
   "id": "6980281e",
   "metadata": {},
   "source": [
    "Модель, построенная на 1 и 3 признаке дала самый большой коэфициент $R^2 = 0,763$, самые малые показатели $AIC = 37.53$ и $AIC = 38.44$.\n",
    "При уровне значимости $\\alpha = 0.05$ значение $P-value = 0.00644$ меньше уровня значимости, что отвергает гипотезу $H0$ о незначимости уравнения регрессии. Так же $P-value$ каждого коэффициента меньше уровня значимости, что так же делает эти коэффициенты значимыми. "
   ]
  },
  {
   "cell_type": "markdown",
   "id": "d6bc7c9c",
   "metadata": {},
   "source": [
    "#### Задача 2\n",
    "\n",
    "Даны значения величины заработной платы заемщиков банка (salary) и значения их поведенческого кредитного скоринга (scoring):\n",
    "\n",
    "salary = [35, 45, 190, 200, 40, 70, 54, 150, 120, 110]\n",
    "scoring = [401, 574, 874, 919, 459, 739, 653, 902, 746, 832]\n",
    "\n",
    "Возьмём в качестве признака значение salary, а в качестве целевой переменной - scoring.\n",
    "\n",
    "Найдите коэффициенты линейной регрессии с помощью формул для парной регрессии, а затем с помощью метода наименьших квадратов.\n",
    "Постройте scatter plot по данным и отметьте на нём прямую линейной регрессии, полученную в п. 1.\n",
    "Посчитайте коэффициент детерминации.\n",
    "Оцените построенное уравнение регрессии с помощью F-критерия Фишера.\n",
    "(доп) Посчитать среднюю ошибку аппроксимации"
   ]
  },
  {
   "cell_type": "code",
   "execution_count": 63,
   "id": "36b1300d",
   "metadata": {},
   "outputs": [],
   "source": [
    "salary = [35, 45, 190, 200, 40, 70, 54, 150, 120, 110]\n",
    "scoring = [401, 574, 874, 919, 459, 739, 653, 902, 746, 832]"
   ]
  },
  {
   "cell_type": "code",
   "execution_count": 66,
   "id": "d62ab24a",
   "metadata": {},
   "outputs": [],
   "source": [
    "x = np.array(salary)\n",
    "y = np.array(scoring)"
   ]
  },
  {
   "cell_type": "markdown",
   "id": "163a271d",
   "metadata": {},
   "source": [
    "##### Найдем коэффициенты линейной регрессии с помощью формул для парной регрессии:"
   ]
  },
  {
   "cell_type": "code",
   "execution_count": 71,
   "id": "098afc7d",
   "metadata": {},
   "outputs": [],
   "source": [
    "b1 = np.cov(x, y)[0, 1] / np.var(x)\n",
    "b0 = y.mean() - b1 * x.mean()"
   ]
  },
  {
   "cell_type": "code",
   "execution_count": 73,
   "id": "b4c967cf",
   "metadata": {},
   "outputs": [
    {
     "data": {
      "text/plain": [
       "(414.6526192492885, 2.911709869336405)"
      ]
     },
     "execution_count": 73,
     "metadata": {},
     "output_type": "execute_result"
    }
   ],
   "source": [
    "b0, b1"
   ]
  },
  {
   "cell_type": "markdown",
   "id": "48f556f1",
   "metadata": {},
   "source": [
    "Уравнение регрессии имеет вид: \\\n",
    "$$y = 414.65 + 2.91 \\cdot x$$ \\\n",
    "т.е. с увеличением зарплаты на 1 условную единицу кредитный скоринг увеличивается на 2.91 ед\n"
   ]
  },
  {
   "cell_type": "markdown",
   "id": "6d853200",
   "metadata": {},
   "source": [
    "##### и с помощью метода наименьших квадратов:"
   ]
  },
  {
   "cell_type": "code",
   "execution_count": 75,
   "id": "0dbe58b8",
   "metadata": {},
   "outputs": [
    {
     "data": {
      "text/plain": [
       "array([[ 35],\n",
       "       [ 45],\n",
       "       [190],\n",
       "       [200],\n",
       "       [ 40],\n",
       "       [ 70],\n",
       "       [ 54],\n",
       "       [150],\n",
       "       [120],\n",
       "       [110]])"
      ]
     },
     "execution_count": 75,
     "metadata": {},
     "output_type": "execute_result"
    }
   ],
   "source": [
    "x1 = x.reshape(-1, 1)\n",
    "x1"
   ]
  },
  {
   "cell_type": "code",
   "execution_count": 78,
   "id": "111d1d05",
   "metadata": {},
   "outputs": [
    {
     "data": {
      "text/plain": [
       "((10, 1), (10,))"
      ]
     },
     "execution_count": 78,
     "metadata": {},
     "output_type": "execute_result"
    }
   ],
   "source": [
    "x1.shape, y.shape"
   ]
  },
  {
   "cell_type": "code",
   "execution_count": 79,
   "id": "5e1c9a7b",
   "metadata": {},
   "outputs": [],
   "source": [
    "ones = np.ones((x1.shape[0], 1))\n",
    "x1 = np.hstack((ones, x1))"
   ]
  },
  {
   "cell_type": "code",
   "execution_count": 80,
   "id": "b0019f95",
   "metadata": {},
   "outputs": [
    {
     "data": {
      "text/plain": [
       "(10, 2)"
      ]
     },
     "execution_count": 80,
     "metadata": {},
     "output_type": "execute_result"
    }
   ],
   "source": [
    "x1.shape"
   ]
  },
  {
   "cell_type": "code",
   "execution_count": 81,
   "id": "5c90c5fa",
   "metadata": {},
   "outputs": [
    {
     "data": {
      "text/plain": [
       "array([[  1.,  35.],\n",
       "       [  1.,  45.],\n",
       "       [  1., 190.],\n",
       "       [  1., 200.],\n",
       "       [  1.,  40.],\n",
       "       [  1.,  70.],\n",
       "       [  1.,  54.],\n",
       "       [  1., 150.],\n",
       "       [  1., 120.],\n",
       "       [  1., 110.]])"
      ]
     },
     "execution_count": 81,
     "metadata": {},
     "output_type": "execute_result"
    }
   ],
   "source": [
    "x1"
   ]
  },
  {
   "cell_type": "markdown",
   "id": "2c7b3938",
   "metadata": {},
   "source": [
    "Запишем матрицу  𝑋⊤𝑋  и посчитаем её определитель."
   ]
  },
  {
   "cell_type": "code",
   "execution_count": 82,
   "id": "08e26d91",
   "metadata": {},
   "outputs": [
    {
     "data": {
      "text/plain": [
       "349464.00000000023"
      ]
     },
     "execution_count": 82,
     "metadata": {},
     "output_type": "execute_result"
    }
   ],
   "source": [
    "XTX = x1.T.dot(x1)\n",
    "\n",
    "np.linalg.det(XTX)"
   ]
  },
  {
   "cell_type": "markdown",
   "id": "eea4ccfc",
   "metadata": {},
   "source": [
    "Определитель не близок к нулю, поэтому проблем с методом нет. Коэффициенты модели:"
   ]
  },
  {
   "cell_type": "code",
   "execution_count": 83,
   "id": "584de9c4",
   "metadata": {},
   "outputs": [
    {
     "name": "stdout",
     "output_type": "stream",
     "text": [
      "[444.17735732   2.62053888]\n"
     ]
    }
   ],
   "source": [
    "XTX_inv = np.linalg.inv(XTX)\n",
    "\n",
    "b = XTX_inv.dot(x1.T).dot(y)\n",
    "\n",
    "print(b)"
   ]
  },
  {
   "cell_type": "code",
   "execution_count": 84,
   "id": "c555ad5b",
   "metadata": {},
   "outputs": [
    {
     "name": "stdout",
     "output_type": "stream",
     "text": [
      "<class 'sklearn.linear_model._base.LinearRegression'>\n"
     ]
    },
    {
     "data": {
      "text/plain": [
       "(444.1773573243595, array([0.        , 2.62053888]))"
      ]
     },
     "execution_count": 84,
     "metadata": {},
     "output_type": "execute_result"
    }
   ],
   "source": [
    "model2 = LinearRegression().fit(x1, y)\n",
    "print(type(model2))\n",
    "model2.intercept_, model2.coef_"
   ]
  },
  {
   "cell_type": "markdown",
   "id": "cdfdcef3",
   "metadata": {},
   "source": [
    "##### Постройте scatter plot по данным и отметьте на нём прямую линейной регрессии, полученную в п. 1. Посчитайте коэффициент детерминации."
   ]
  },
  {
   "cell_type": "code",
   "execution_count": 88,
   "id": "0bdec4f3",
   "metadata": {},
   "outputs": [],
   "source": [
    "from matplotlib import pyplot as plt\n",
    "plt.style.use('seaborn-whitegrid')"
   ]
  },
  {
   "cell_type": "code",
   "execution_count": 91,
   "id": "1b50ec7a",
   "metadata": {},
   "outputs": [
    {
     "data": {
      "image/png": "[encoded data removed]",
      "text/plain": [
       "<Figure size 432x288 with 1 Axes>"
      ]
     },
     "metadata": {},
     "output_type": "display_data"
    }
   ],
   "source": [
    "ox = x1\n",
    "oy = b0 + b1 * ox\n",
    "\n",
    "plt.scatter(x, y)\n",
    "plt.plot(ox, oy, color='red', alpha=0.5)\n",
    "\n",
    "plt.xlabel('salary')\n",
    "plt.ylabel('scoring');"
   ]
  },
  {
   "cell_type": "markdown",
   "id": "9b05ed87",
   "metadata": {},
   "source": [
    "Посчитаем коэффициент детерминации"
   ]
  },
  {
   "cell_type": "code",
   "execution_count": 93,
   "id": "33f19b21",
   "metadata": {},
   "outputs": [],
   "source": [
    "z1 = b0 + b1 * x"
   ]
  },
  {
   "cell_type": "code",
   "execution_count": 94,
   "id": "e536e490",
   "metadata": {},
   "outputs": [],
   "source": [
    "def sum_of_squares(samples):\n",
    "    return ((samples - samples.mean()) ** 2).sum()"
   ]
  },
  {
   "cell_type": "code",
   "execution_count": 95,
   "id": "e085cb6d",
   "metadata": {},
   "outputs": [
    {
     "data": {
      "text/plain": [
       "0.7779147294117221"
      ]
     },
     "execution_count": 95,
     "metadata": {},
     "output_type": "execute_result"
    }
   ],
   "source": [
    "R1 = 1 - ((y - z1)**2).sum() / sum_of_squares(y)\n",
    "R1"
   ]
  },
  {
   "cell_type": "markdown",
   "id": "8b67bc7c",
   "metadata": {},
   "source": [
    "Коэффициент детерминации, равный $0.7779$, означает, что $78 \\%$ дисперсии переменной $y$ _учитывается_ или _объясняется_ моделью. Оставшиеся $22 \\%$ обусловлены какими-то ещё факторами, которые при построении модели не учитывались."
   ]
  },
  {
   "cell_type": "markdown",
   "id": "a7fa6fa9",
   "metadata": {},
   "source": [
    "##### Оцените построенное уравнение регрессии с помощью F-критерия Фишера. (доп) Посчитать среднюю ошибку аппроксимации"
   ]
  },
  {
   "cell_type": "markdown",
   "id": "5d40c51b",
   "metadata": {},
   "source": [
    "__F-тест Фишера__. Формально при таком тесте проверяется нулевая гипотеза о том, что теоретический коэффициент детерминации (т.е. для модели, построенной для случайных величин) равен $0$, т.е. что в имеющихся данных вообще нет никакой зависимости. \n",
    "\n",
    "При F-тесте используется статистика:\n",
    "$$F = \\dfrac{R^2 / m}{(1 - R^2) / (n - m - 1)},$$\n",
    "где $R^2$ — коэффициент детерминации, $n$ — число наблюдений, $m$ — число факторов. Такая статистика в предположении верности нулевой гипотезы имеет __F-распределение Фишера__ с параметрами $k_1 = m$, $k_2 = n - m - 1$.\n",
    "\n",
    "Распределение Фишера имеет один хвост, поэтому рассматривается правосторонняя критическая область $\\Omega_\\alpha = \\left( t_{1 - \\alpha, \\: k_1, k_2}, \\infty \\right)$, где $t_{\\beta, \\: k_1, k_2}$ — квантиль порядка $\\beta$ для распределения Фишера с параметрами $k_1$, $k_2$.\n",
    "\n",
    "Если статистика попадает в критическую область, то гипотеза о равенстве нулю коэффициента детерминации отвергается. Это означает, что построенная нами модель значимо соответствует данным."
   ]
  },
  {
   "cell_type": "code",
   "execution_count": 98,
   "id": "6087c61a",
   "metadata": {},
   "outputs": [
    {
     "data": {
      "text/plain": [
       "(1, 8)"
      ]
     },
     "execution_count": 98,
     "metadata": {},
     "output_type": "execute_result"
    }
   ],
   "source": [
    "n = x.shape[0]\n",
    "m = 1\n",
    "\n",
    "k1 = m\n",
    "k2 = n - m - 1\n",
    "\n",
    "k1, k2"
   ]
  },
  {
   "cell_type": "markdown",
   "id": "ee53a270",
   "metadata": {},
   "source": [
    "Возьмём уровень значимости  𝛼=0.05 . Нужный нам квантиль можно посчитать с помощью функции scipy.stats.f.ppf:"
   ]
  },
  {
   "cell_type": "code",
   "execution_count": 99,
   "id": "15e1381a",
   "metadata": {},
   "outputs": [],
   "source": [
    "from scipy import stats"
   ]
  },
  {
   "cell_type": "code",
   "execution_count": 100,
   "id": "4e5bde0a",
   "metadata": {},
   "outputs": [
    {
     "data": {
      "text/plain": [
       "5.317655071578714"
      ]
     },
     "execution_count": 100,
     "metadata": {},
     "output_type": "execute_result"
    }
   ],
   "source": [
    "alpha = 0.05\n",
    "\n",
    "t = stats.f.ppf(1 - alpha, k1, k2)\n",
    "t"
   ]
  },
  {
   "cell_type": "markdown",
   "id": "52a9de5a",
   "metadata": {},
   "source": [
    "Итак, критическая область:\n",
    "$$\\Omega_\\alpha = \\left( 5.32, \\infty \\right)$$"
   ]
  },
  {
   "cell_type": "markdown",
   "id": "ebc647e2",
   "metadata": {},
   "source": [
    "Считаем значение статистики:"
   ]
  },
  {
   "cell_type": "code",
   "execution_count": 102,
   "id": "fb368935",
   "metadata": {},
   "outputs": [
    {
     "data": {
      "text/plain": [
       "28.022199846072354"
      ]
     },
     "execution_count": 102,
     "metadata": {},
     "output_type": "execute_result"
    }
   ],
   "source": [
    "F = (R1 / k1) / ((1 - R1) / k2)\n",
    "F"
   ]
  },
  {
   "cell_type": "markdown",
   "id": "d1f45ef1",
   "metadata": {},
   "source": [
    "Статистика попала в критическую область, уравнение регрессии признаётся значимым."
   ]
  },
  {
   "cell_type": "code",
   "execution_count": 103,
   "id": "07e5fa8d",
   "metadata": {},
   "outputs": [
    {
     "name": "stdout",
     "output_type": "stream",
     "text": [
      "                            OLS Regression Results                            \n",
      "==============================================================================\n",
      "Dep. Variable:                      y   R-squared:                       0.788\n",
      "Model:                            OLS   Adj. R-squared:                  0.761\n",
      "Method:                 Least Squares   F-statistic:                     29.67\n",
      "Date:                Tue, 14 Sep 2021   Prob (F-statistic):           0.000611\n",
      "Time:                        14:57:33   Log-Likelihood:                -58.064\n",
      "No. Observations:                  10   AIC:                             120.1\n",
      "Df Residuals:                       8   BIC:                             120.7\n",
      "Df Model:                           1                                         \n",
      "Covariance Type:            nonrobust                                         \n",
      "==============================================================================\n",
      "                 coef    std err          t      P>|t|      [0.025      0.975]\n",
      "------------------------------------------------------------------------------\n",
      "const        444.1774     56.466      7.866      0.000     313.965     574.389\n",
      "x1             2.6205      0.481      5.447      0.001       1.511       3.730\n",
      "==============================================================================\n",
      "Omnibus:                        1.365   Durbin-Watson:                   1.407\n",
      "Prob(Omnibus):                  0.505   Jarque-Bera (JB):                0.725\n",
      "Skew:                          -0.130   Prob(JB):                        0.696\n",
      "Kurtosis:                       1.707   Cond. No.                         233.\n",
      "==============================================================================\n",
      "\n",
      "Notes:\n",
      "[1] Standard Errors assume that the covariance matrix of the errors is correctly specified.\n"
     ]
    },
    {
     "name": "stderr",
     "output_type": "stream",
     "text": [
      "c:\\python39\\lib\\site-packages\\scipy\\stats\\stats.py:1603: UserWarning: kurtosistest only valid for n>=20 ... continuing anyway, n=10\n",
      "  warnings.warn(\"kurtosistest only valid for n>=20 ... continuing \"\n"
     ]
    }
   ],
   "source": [
    "import statsmodels.api as sm\n",
    "model = sm.OLS(y, x1)\n",
    "results = model.fit()\n",
    "print(results.summary())"
   ]
  },
  {
   "cell_type": "markdown",
   "id": "9beb1a8e",
   "metadata": {},
   "source": [
    "Значение  𝑃−𝑣𝑎𝑙𝑢𝑒 = 0.000611  меньше уровня значимости - уравнение регрессии признаётся значимым, как и коэффициенты. "
   ]
  },
  {
   "cell_type": "markdown",
   "id": "4c5bda7a",
   "metadata": {},
   "source": [
    "Помимо коэффициента детерминации другим способом оценки качества модели является __средняя ошибка аппроксимации__. Она вычисляется по формуле:\n",
    "\n",
    "$$\\overline{A} = \\frac{1}{n} \\displaystyle\\sum_{i=1}^{n} \\Bigl| {{\\frac{y_i - z_i}{y_i}} \\Bigr|}.$$\n",
    "\n",
    "Если $\\overline{A}$ не превышает $8-10 \\%$, можно сказать, что теоретические значения близки к тем, которые выдает модель линейной регрессии."
   ]
  },
  {
   "cell_type": "code",
   "execution_count": 96,
   "id": "05a9443f",
   "metadata": {},
   "outputs": [],
   "source": [
    "def mean_approximation_error(y_real, y_pred):\n",
    "    return np.abs((y_real - y_pred) / y_real).mean()"
   ]
  },
  {
   "cell_type": "code",
   "execution_count": 97,
   "id": "6dc38f55",
   "metadata": {},
   "outputs": [
    {
     "data": {
      "text/plain": [
       "0.1171197299778263"
      ]
     },
     "execution_count": 97,
     "metadata": {},
     "output_type": "execute_result"
    }
   ],
   "source": [
    "mean_approximation_error(y, z1)"
   ]
  }
 ],
 "metadata": {
  "kernelspec": {
   "display_name": "Python 3 (ipykernel)",
   "language": "python",
   "name": "python3"
  },
  "language_info": {
   "codemirror_mode": {
    "name": "ipython",
    "version": 3
   },
   "file_extension": ".py",
   "mimetype": "text/x-python",
   "name": "python",
   "nbconvert_exporter": "python",
   "pygments_lexer": "ipython3",
   "version": "3.9.1"
  }
 },
 "nbformat": 4,
 "nbformat_minor": 5
}
